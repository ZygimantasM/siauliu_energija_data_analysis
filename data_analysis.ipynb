{
 "cells": [
  {
   "cell_type": "markdown",
   "metadata": {},
   "source": [
    "# Analysis of energy consumption and records from AB \"Šiaulių Energija\""
   ]
  },
  {
   "cell_type": "markdown",
   "metadata": {},
   "source": [
    "## 1. Setup"
   ]
  },
  {
   "cell_type": "code",
   "execution_count": null,
   "metadata": {},
   "outputs": [],
   "source": [
    "import gdown\n",
    "\n",
    "url = \"https://drive.google.com/uc?export=download&id=1HfJ4P1OELBuToQHB0dh7acJDjGG4IyNq\"\n",
    "output_path = \"csv_files/register.csv\"\n",
    "gdown.download(url, output_path, quiet=False)"
   ]
  },
  {
   "cell_type": "code",
   "execution_count": 6,
   "metadata": {},
   "outputs": [],
   "source": [
    "import pandas as pd\n",
    "import numpy as np\n",
    "import matplotlib.pyplot as plt \n",
    "\n",
    "register = pd.read_csv(\"csv_files/register.csv\")\n",
    "rooms = pd.read_csv(\"csv_files/rooms.csv\")"
   ]
  },
  {
   "cell_type": "markdown",
   "metadata": {},
   "source": [
    "## 2. Feature Engineering"
   ]
  },
  {
   "cell_type": "markdown",
   "metadata": {},
   "source": [
    "Geometry data is in LKS94 format, which is relatively obscure and hard to work with, therefore we convert it to standard WGS84"
   ]
  },
  {
   "cell_type": "code",
   "execution_count": 2,
   "metadata": {},
   "outputs": [],
   "source": [
    "from pyproj import Transformer\n",
    "\n",
    "transformer = Transformer.from_crs('epsg:3346', 'epsg:4326', always_xy=True)\n",
    "rooms['x_coord'], rooms['y_coord'] = transformer.transform(rooms['x_coord'].values, rooms['y_coord'].values)"
   ]
  },
  {
   "cell_type": "code",
   "execution_count": 3,
   "metadata": {},
   "outputs": [],
   "source": [
    "register[\"month\"] = pd.to_datetime(register[\"month\"])\n",
    "rooms[\"build_year\"] = pd.to_datetime(rooms[\"build_year\"])\n",
    "\n",
    "start_date = pd.to_datetime('2019-01-01')\n",
    "end_date = pd.to_datetime('2024-12-31')\n",
    "\n",
    "register = register[(register[\"month\"] >= start_date) & (register[\"month\"] <= end_date)]"
   ]
  },
  {
   "cell_type": "code",
   "execution_count": 4,
   "metadata": {},
   "outputs": [],
   "source": [
    "joined_df = pd.merge(register, rooms, on=\"room_id\", how=\"left\")"
   ]
  },
  {
   "cell_type": "markdown",
   "metadata": {},
   "source": [
    "## 3. Exploratory Data Analysis"
   ]
  },
  {
   "cell_type": "code",
   "execution_count": 5,
   "metadata": {},
   "outputs": [],
   "source": [
    "monthly_result_sum = register.pivot_table(index='month', columns='service_category', values='amount', aggfunc='sum').reset_index()"
   ]
  },
  {
   "cell_type": "markdown",
   "metadata": {},
   "source": [
    "Very little data is missing, which is very good"
   ]
  },
  {
   "cell_type": "code",
   "execution_count": 6,
   "metadata": {},
   "outputs": [
    {
     "data": {
      "text/plain": [
       "(room_id             403\n",
       " month                 0\n",
       " amount                0\n",
       " unit                  0\n",
       " buyer_id              0\n",
       " legal_entity          0\n",
       " service_name          0\n",
       " service_category      0\n",
       " dtype: int64,\n",
       " room_id               0\n",
       " building_id           0\n",
       " room_area          2388\n",
       " build_year            9\n",
       " building_floors       0\n",
       " building_type         0\n",
       " building_func         0\n",
       " x_coord               3\n",
       " y_coord               3\n",
       " dtype: int64)"
      ]
     },
     "execution_count": 6,
     "metadata": {},
     "output_type": "execute_result"
    }
   ],
   "source": [
    "register.isna().sum(), rooms.isna().sum()"
   ]
  },
  {
   "cell_type": "code",
   "execution_count": 7,
   "metadata": {},
   "outputs": [
    {
     "data": {
      "text/plain": [
       "room_id               403\n",
       "month                   0\n",
       "amount                  0\n",
       "unit                    0\n",
       "buyer_id                0\n",
       "legal_entity            0\n",
       "service_name            0\n",
       "service_category        0\n",
       "building_id           405\n",
       "room_area           37716\n",
       "build_year            569\n",
       "building_floors       405\n",
       "building_type         405\n",
       "building_func         405\n",
       "x_coord               501\n",
       "y_coord               501\n",
       "dtype: int64"
      ]
     },
     "execution_count": 7,
     "metadata": {},
     "output_type": "execute_result"
    }
   ],
   "source": [
    "joined_df.isna().sum()"
   ]
  },
  {
   "cell_type": "code",
   "execution_count": 8,
   "metadata": {},
   "outputs": [
    {
     "data": {
      "text/plain": [
       "(room_id                     object\n",
       " month               datetime64[ns]\n",
       " amount                     float64\n",
       " unit                        object\n",
       " buyer_id                    object\n",
       " legal_entity                  bool\n",
       " service_name                object\n",
       " service_category            object\n",
       " dtype: object,\n",
       " room_id                    object\n",
       " building_id                object\n",
       " room_area                 float64\n",
       " build_year         datetime64[ns]\n",
       " building_floors           float64\n",
       " building_type              object\n",
       " building_func              object\n",
       " x_coord                   float64\n",
       " y_coord                   float64\n",
       " dtype: object)"
      ]
     },
     "execution_count": 8,
     "metadata": {},
     "output_type": "execute_result"
    }
   ],
   "source": [
    "register.dtypes, rooms.dtypes"
   ]
  },
  {
   "cell_type": "code",
   "execution_count": 9,
   "metadata": {},
   "outputs": [
    {
     "data": {
      "text/plain": [
       "(room_id               44886\n",
       " month                    70\n",
       " amount              1908729\n",
       " unit                      5\n",
       " buyer_id              56271\n",
       " legal_entity              2\n",
       " service_name             12\n",
       " service_category          8\n",
       " dtype: int64,\n",
       " room_id            47734\n",
       " building_id         1421\n",
       " room_area           6918\n",
       " build_year           108\n",
       " building_floors       12\n",
       " building_type         40\n",
       " building_func         16\n",
       " x_coord             1416\n",
       " y_coord             1416\n",
       " dtype: int64)"
      ]
     },
     "execution_count": 9,
     "metadata": {},
     "output_type": "execute_result"
    }
   ],
   "source": [
    "register.nunique(), rooms.nunique()"
   ]
  },
  {
   "cell_type": "code",
   "execution_count": 10,
   "metadata": {},
   "outputs": [],
   "source": [
    "reg_filt_heat = register[register[\"service_category\"] == \"Šiluma\"]\n",
    "reg_filt_heat = pd.DataFrame(reg_filt_heat.groupby(\"month\")[\"amount\"].sum())\n",
    "\n",
    "reg_filt_wat = register[register[\"service_category\"] == \"Karštas vanduo\"]\n",
    "reg_filt_wat = pd.DataFrame(reg_filt_wat.groupby(\"month\")[\"amount\"].sum())"
   ]
  },
  {
   "cell_type": "code",
   "execution_count": 11,
   "metadata": {},
   "outputs": [
    {
     "data": {
      "text/plain": [
       "Text(0.5, 1.0, 'Heat over time')"
      ]
     },
     "execution_count": 11,
     "metadata": {},
     "output_type": "execute_result"
    },
    {
     "data": {
      "image/png": "[encoded data removed]",
      "text/plain": [
       "<Figure size 640x480 with 1 Axes>"
      ]
     },
     "metadata": {},
     "output_type": "display_data"
    }
   ],
   "source": [
    "reg_filt_heat.plot()\n",
    "plt.title(\"Heat over time\")"
   ]
  },
  {
   "cell_type": "code",
   "execution_count": 12,
   "metadata": {},
   "outputs": [
    {
     "data": {
      "text/plain": [
       "(0.0, 80000.0)"
      ]
     },
     "execution_count": 12,
     "metadata": {},
     "output_type": "execute_result"
    },
    {
     "data": {
      "image/png": "[encoded data removed]",
      "text/plain": [
       "<Figure size 640x480 with 1 Axes>"
      ]
     },
     "metadata": {},
     "output_type": "display_data"
    }
   ],
   "source": [
    "reg_filt_wat.plot()\n",
    "plt.title(\"Hot water over time\")\n",
    "plt.ylim(0, 80000)"
   ]
  },
  {
   "cell_type": "code",
   "execution_count": 13,
   "metadata": {},
   "outputs": [],
   "source": [
    "new_register = register\n",
    "new_register[\"year\"] = new_register[\"month\"].dt.year.astype(int)\n",
    "yearly_result_sum = register.pivot_table(index='year', columns='service_category', values='amount', aggfunc='sum').reset_index()"
   ]
  },
  {
   "cell_type": "code",
   "execution_count": 14,
   "metadata": {},
   "outputs": [
    {
     "name": "stderr",
     "output_type": "stream",
     "text": [
      "C:\\Users\\zygim\\AppData\\Local\\Temp\\ipykernel_9636\\982236684.py:2: SettingWithCopyWarning: \n",
      "A value is trying to be set on a copy of a slice from a DataFrame.\n",
      "Try using .loc[row_indexer,col_indexer] = value instead\n",
      "\n",
      "See the caveats in the documentation: https://pandas.pydata.org/pandas-docs/stable/user_guide/indexing.html#returning-a-view-versus-a-copy\n",
      "  reg_filt_heat[\"year\"] = reg_filt_heat[\"month\"].dt.year\n",
      "C:\\Users\\zygim\\AppData\\Local\\Temp\\ipykernel_9636\\982236684.py:7: SettingWithCopyWarning: \n",
      "A value is trying to be set on a copy of a slice from a DataFrame.\n",
      "Try using .loc[row_indexer,col_indexer] = value instead\n",
      "\n",
      "See the caveats in the documentation: https://pandas.pydata.org/pandas-docs/stable/user_guide/indexing.html#returning-a-view-versus-a-copy\n",
      "  reg_filt_wat[\"year\"] = reg_filt_wat[\"month\"].dt.year\n"
     ]
    }
   ],
   "source": [
    "reg_filt_heat = register[register[\"service_category\"] == \"Šiluma\"]\n",
    "reg_filt_heat[\"year\"] = reg_filt_heat[\"month\"].dt.year\n",
    "reg_filt_heat = reg_filt_heat.groupby(\"year\")[\"amount\"].sum().reset_index()\n",
    "reg_filt_heat.set_index(\"year\", inplace=True)\n",
    "\n",
    "reg_filt_wat = register[register[\"service_category\"] == \"Karštas vanduo\"]\n",
    "reg_filt_wat[\"year\"] = reg_filt_wat[\"month\"].dt.year\n",
    "reg_filt_wat = reg_filt_wat.groupby(\"year\")[\"amount\"].sum().reset_index()\n",
    "reg_filt_wat.set_index(\"year\", inplace=True)"
   ]
  },
  {
   "cell_type": "code",
   "execution_count": 15,
   "metadata": {},
   "outputs": [
    {
     "data": {
      "text/plain": [
       "Text(0.5, 1.0, 'heat consumption by year')"
      ]
     },
     "execution_count": 15,
     "metadata": {},
     "output_type": "execute_result"
    },
    {
     "data": {
      "image/png": "[encoded data removed]",
      "text/plain": [
       "<Figure size 640x480 with 1 Axes>"
      ]
     },
     "metadata": {},
     "output_type": "display_data"
    }
   ],
   "source": [
    "reg_filt_heat.plot(kind=\"bar\")\n",
    "plt.title(\"heat consumption by year\")"
   ]
  },
  {
   "cell_type": "code",
   "execution_count": 16,
   "metadata": {},
   "outputs": [
    {
     "data": {
      "text/plain": [
       "Text(0.5, 1.0, 'water consumption by year')"
      ]
     },
     "execution_count": 16,
     "metadata": {},
     "output_type": "execute_result"
    },
    {
     "data": {
      "image/png": "[encoded data removed]",
      "text/plain": [
       "<Figure size 640x480 with 1 Axes>"
      ]
     },
     "metadata": {},
     "output_type": "display_data"
    }
   ],
   "source": [
    "reg_filt_wat.plot(kind=\"bar\")\n",
    "plt.title(\"water consumption by year\")\n"
   ]
  },
  {
   "cell_type": "code",
   "execution_count": 17,
   "metadata": {},
   "outputs": [
    {
     "data": {
      "text/plain": [
       "Text(0.5, 1.0, 'Total number of rooms that have contracts (registered)')"
      ]
     },
     "execution_count": 17,
     "metadata": {},
     "output_type": "execute_result"
    },
    {
     "data": {
      "image/png": "[encoded data removed]",
      "text/plain": [
       "<Figure size 640x480 with 1 Axes>"
      ]
     },
     "metadata": {},
     "output_type": "display_data"
    }
   ],
   "source": [
    "grouped = register.groupby(\"month\")[\"room_id\"].nunique()\n",
    "grouped.plot()\n",
    "plt.title(\"Total number of rooms that have contracts (registered)\")"
   ]
  },
  {
   "cell_type": "code",
   "execution_count": 18,
   "metadata": {},
   "outputs": [],
   "source": [
    "new_register = register\n",
    "new_register[\"year\"] = new_register[\"month\"].dt.year.astype(int)\n",
    "grouped = new_register.groupby(\"year\").size()"
   ]
  },
  {
   "cell_type": "code",
   "execution_count": 19,
   "metadata": {},
   "outputs": [
    {
     "data": {
      "text/plain": [
       "Text(0.5, 1.0, 'Total number of contracts')"
      ]
     },
     "execution_count": 19,
     "metadata": {},
     "output_type": "execute_result"
    },
    {
     "data": {
      "image/png": "[encoded data removed]",
      "text/plain": [
       "<Figure size 640x480 with 1 Axes>"
      ]
     },
     "metadata": {},
     "output_type": "display_data"
    }
   ],
   "source": [
    "grouped = register.groupby(\"month\").size()\n",
    "grouped.plot()\n",
    "plt.title(\"Total number of contracts\")"
   ]
  },
  {
   "cell_type": "code",
   "execution_count": 21,
   "metadata": {},
   "outputs": [
    {
     "data": {
      "text/plain": [
       "Text(0.5, 1.0, 'Total number of buildings that have contracts')"
      ]
     },
     "execution_count": 21,
     "metadata": {},
     "output_type": "execute_result"
    },
    {
     "data": {
      "image/png": "[encoded data removed]",
      "text/plain": [
       "<Figure size 640x480 with 1 Axes>"
      ]
     },
     "metadata": {},
     "output_type": "display_data"
    }
   ],
   "source": [
    "grouped = joined_df.groupby(\"month\")[\"building_id\"].nunique()\n",
    "grouped.plot()\n",
    "plt.title(\"Total number of buildings that have contracts\")"
   ]
  },
  {
   "cell_type": "markdown",
   "metadata": {},
   "source": [
    "### Energy consumed per building function"
   ]
  },
  {
   "cell_type": "code",
   "execution_count": 22,
   "metadata": {},
   "outputs": [
    {
     "data": {
      "text/plain": [
       "building_func\n",
       "Gyvenamasis (trijų ir daugiau butų - daugiaaukštis pastatas)    47079\n",
       "Administracinė                                                    266\n",
       "Mokslo                                                            119\n",
       "Prekybos                                                           67\n",
       "Gydymo                                                             48\n",
       "Gyvenamasis (individualus pastatas)                                47\n",
       "Kultūros                                                           24\n",
       "Gamybos                                                            19\n",
       "Sporto                                                             18\n",
       "Kita                                                               14\n",
       "Transporto                                                         11\n",
       "Viešbučių                                                           5\n",
       "Sandėliavimo                                                        5\n",
       "Komercinės paskirties                                               5\n",
       "Religinės                                                           4\n",
       "Maitinimo                                                           3\n",
       "Name: count, dtype: int64"
      ]
     },
     "execution_count": 22,
     "metadata": {},
     "output_type": "execute_result"
    }
   ],
   "source": [
    "rooms[\"building_func\"].value_counts()"
   ]
  },
  {
   "cell_type": "markdown",
   "metadata": {},
   "source": [
    "From the value counts above I can only think that either the dataset is not complete, because there is only 47 room id for individual buildings?"
   ]
  },
  {
   "cell_type": "code",
   "execution_count": 23,
   "metadata": {},
   "outputs": [
    {
     "name": "stderr",
     "output_type": "stream",
     "text": [
      "C:\\Users\\zygim\\AppData\\Local\\Temp\\ipykernel_9636\\1457825724.py:2: FutureWarning: A value is trying to be set on a copy of a DataFrame or Series through chained assignment using an inplace method.\n",
      "The behavior will change in pandas 3.0. This inplace method will never work because the intermediate object on which we are setting values always behaves as a copy.\n",
      "\n",
      "For example, when doing 'df[col].method(value, inplace=True)', try using 'df.method({col: value}, inplace=True)' or df[col] = df[col].method(value) instead, to perform the operation inplace on the original object.\n",
      "\n",
      "\n",
      "  filtered_df[\"building_func\"].fillna(\"Nezinoma\", inplace=True)\n",
      "C:\\Users\\zygim\\AppData\\Local\\Temp\\ipykernel_9636\\1457825724.py:2: SettingWithCopyWarning: \n",
      "A value is trying to be set on a copy of a slice from a DataFrame\n",
      "\n",
      "See the caveats in the documentation: https://pandas.pydata.org/pandas-docs/stable/user_guide/indexing.html#returning-a-view-versus-a-copy\n",
      "  filtered_df[\"building_func\"].fillna(\"Nezinoma\", inplace=True)\n",
      "C:\\Users\\zygim\\AppData\\Local\\Temp\\ipykernel_9636\\1457825724.py:3: SettingWithCopyWarning: \n",
      "A value is trying to be set on a copy of a slice from a DataFrame.\n",
      "Try using .loc[row_indexer,col_indexer] = value instead\n",
      "\n",
      "See the caveats in the documentation: https://pandas.pydata.org/pandas-docs/stable/user_guide/indexing.html#returning-a-view-versus-a-copy\n",
      "  filtered_df[\"year\"] = filtered_df[\"month\"].dt.year.astype(int)\n"
     ]
    },
    {
     "data": {
      "application/vnd.microsoft.datawrangler.viewer.v0+json": {
       "columns": [
        {
         "name": "year",
         "rawType": "int32",
         "type": "integer"
        },
        {
         "name": "Gyvenamasis (trijų ir daugiau butų - daugiaaukštis pastatas)",
         "rawType": "float64",
         "type": "float"
        },
        {
         "name": "Mokslo",
         "rawType": "float64",
         "type": "float"
        },
        {
         "name": "Kita",
         "rawType": "float64",
         "type": "float"
        },
        {
         "name": "Administracinė",
         "rawType": "float64",
         "type": "float"
        },
        {
         "name": "Gyvenamasis (individualus pastatas)",
         "rawType": "float64",
         "type": "float"
        }
       ],
       "conversionMethod": "pd.DataFrame",
       "ref": "ace7ed5e-3c30-4d56-a779-85099f5d3596",
       "rows": [
        [
         "2019",
         "791759.9238",
         "2847.0",
         "942.61",
         "662.15",
         "24.5"
        ],
        [
         "2020",
         "826845.245",
         "2663.0",
         "1419.34",
         "533.86",
         "29.5"
        ],
        [
         "2021",
         "821265.966614",
         "2994.0",
         "1413.6",
         "511.62",
         "27.0"
        ],
        [
         "2022",
         "796902.099131",
         "2879.0",
         "493.45",
         "910.49",
         "28.5"
        ],
        [
         "2023",
         "800642.511759",
         "1435.0",
         "60.0",
         "846.114",
         "28.0"
        ],
        [
         "2024",
         "671716.40086",
         "356.0",
         "54.0",
         "755.655",
         "21.0"
        ]
       ],
       "shape": {
        "columns": 5,
        "rows": 6
       }
      },
      "text/html": [
       "<div>\n",
       "<style scoped>\n",
       "    .dataframe tbody tr th:only-of-type {\n",
       "        vertical-align: middle;\n",
       "    }\n",
       "\n",
       "    .dataframe tbody tr th {\n",
       "        vertical-align: top;\n",
       "    }\n",
       "\n",
       "    .dataframe thead th {\n",
       "        text-align: right;\n",
       "    }\n",
       "</style>\n",
       "<table border=\"1\" class=\"dataframe\">\n",
       "  <thead>\n",
       "    <tr style=\"text-align: right;\">\n",
       "      <th>building_func</th>\n",
       "      <th>Gyvenamasis (trijų ir daugiau butų - daugiaaukštis pastatas)</th>\n",
       "      <th>Mokslo</th>\n",
       "      <th>Kita</th>\n",
       "      <th>Administracinė</th>\n",
       "      <th>Gyvenamasis (individualus pastatas)</th>\n",
       "    </tr>\n",
       "    <tr>\n",
       "      <th>year</th>\n",
       "      <th></th>\n",
       "      <th></th>\n",
       "      <th></th>\n",
       "      <th></th>\n",
       "      <th></th>\n",
       "    </tr>\n",
       "  </thead>\n",
       "  <tbody>\n",
       "    <tr>\n",
       "      <th>2019</th>\n",
       "      <td>791759.923800</td>\n",
       "      <td>2847.0</td>\n",
       "      <td>942.61</td>\n",
       "      <td>662.150</td>\n",
       "      <td>24.5</td>\n",
       "    </tr>\n",
       "    <tr>\n",
       "      <th>2020</th>\n",
       "      <td>826845.245000</td>\n",
       "      <td>2663.0</td>\n",
       "      <td>1419.34</td>\n",
       "      <td>533.860</td>\n",
       "      <td>29.5</td>\n",
       "    </tr>\n",
       "    <tr>\n",
       "      <th>2021</th>\n",
       "      <td>821265.966614</td>\n",
       "      <td>2994.0</td>\n",
       "      <td>1413.60</td>\n",
       "      <td>511.620</td>\n",
       "      <td>27.0</td>\n",
       "    </tr>\n",
       "    <tr>\n",
       "      <th>2022</th>\n",
       "      <td>796902.099131</td>\n",
       "      <td>2879.0</td>\n",
       "      <td>493.45</td>\n",
       "      <td>910.490</td>\n",
       "      <td>28.5</td>\n",
       "    </tr>\n",
       "    <tr>\n",
       "      <th>2023</th>\n",
       "      <td>800642.511759</td>\n",
       "      <td>1435.0</td>\n",
       "      <td>60.00</td>\n",
       "      <td>846.114</td>\n",
       "      <td>28.0</td>\n",
       "    </tr>\n",
       "    <tr>\n",
       "      <th>2024</th>\n",
       "      <td>671716.400860</td>\n",
       "      <td>356.0</td>\n",
       "      <td>54.00</td>\n",
       "      <td>755.655</td>\n",
       "      <td>21.0</td>\n",
       "    </tr>\n",
       "  </tbody>\n",
       "</table>\n",
       "</div>"
      ],
      "text/plain": [
       "building_func  Gyvenamasis (trijų ir daugiau butų - daugiaaukštis pastatas)  \\\n",
       "year                                                                          \n",
       "2019                                               791759.923800              \n",
       "2020                                               826845.245000              \n",
       "2021                                               821265.966614              \n",
       "2022                                               796902.099131              \n",
       "2023                                               800642.511759              \n",
       "2024                                               671716.400860              \n",
       "\n",
       "building_func  Mokslo     Kita  Administracinė  \\\n",
       "year                                             \n",
       "2019           2847.0   942.61         662.150   \n",
       "2020           2663.0  1419.34         533.860   \n",
       "2021           2994.0  1413.60         511.620   \n",
       "2022           2879.0   493.45         910.490   \n",
       "2023           1435.0    60.00         846.114   \n",
       "2024            356.0    54.00         755.655   \n",
       "\n",
       "building_func  Gyvenamasis (individualus pastatas)  \n",
       "year                                                \n",
       "2019                                          24.5  \n",
       "2020                                          29.5  \n",
       "2021                                          27.0  \n",
       "2022                                          28.5  \n",
       "2023                                          28.0  \n",
       "2024                                          21.0  "
      ]
     },
     "execution_count": 23,
     "metadata": {},
     "output_type": "execute_result"
    }
   ],
   "source": [
    "filtered_df = joined_df[joined_df[\"service_category\"] == \"Karštas vanduo\"]\n",
    "filtered_df[\"building_func\"].fillna(\"Nezinoma\", inplace=True)\n",
    "filtered_df[\"year\"] = filtered_df[\"month\"].dt.year.astype(int)\n",
    "pivot_df = filtered_df.pivot_table(values=\"amount\", index=\"year\", columns=\"building_func\", aggfunc=\"sum\", fill_value=0)\n",
    "col_order = pivot_df.sum().sort_values(ascending=False).index\n",
    "pivot_df = pivot_df[col_order]\n",
    "pivot_df"
   ]
  },
  {
   "cell_type": "code",
   "execution_count": 24,
   "metadata": {},
   "outputs": [
    {
     "data": {
      "text/plain": [
       "<Axes: xlabel='year'>"
      ]
     },
     "execution_count": 24,
     "metadata": {},
     "output_type": "execute_result"
    },
    {
     "data": {
      "text/plain": [
       "<Figure size 1000x600 with 0 Axes>"
      ]
     },
     "metadata": {},
     "output_type": "display_data"
    },
    {
     "data": {
      "image/png": "[encoded data removed]",
      "text/plain": [
       "<Figure size 2000x600 with 1 Axes>"
      ]
     },
     "metadata": {},
     "output_type": "display_data"
    }
   ],
   "source": [
    "plt.figure(figsize=(10, 6))\n",
    "pivot_df.plot(kind=\"bar\", stacked=True, legend=True, figsize=(20, 6))"
   ]
  },
  {
   "cell_type": "code",
   "execution_count": 28,
   "metadata": {},
   "outputs": [
    {
     "data": {
      "text/plain": [
       "<Axes: xlabel='year'>"
      ]
     },
     "execution_count": 28,
     "metadata": {},
     "output_type": "execute_result"
    },
    {
     "data": {
      "image/png": "[encoded data removed]",
      "text/plain": [
       "<Figure size 2000x600 with 1 Axes>"
      ]
     },
     "metadata": {},
     "output_type": "display_data"
    }
   ],
   "source": [
    "pivot_df[\"Kita\"].plot(kind=\"bar\", legend=True, figsize=(20, 6))"
   ]
  },
  {
   "cell_type": "code",
   "execution_count": 29,
   "metadata": {},
   "outputs": [],
   "source": [
    "# avg rooms per buyer id\n",
    "\n",
    "buyer_room_df = register.groupby(\"buyer_id\")[\"room_id\"].nunique()\n",
    "buyer_room_df = buyer_room_df[buyer_room_df != 0]"
   ]
  },
  {
   "cell_type": "code",
   "execution_count": null,
   "metadata": {},
   "outputs": [
    {
     "data": {
      "text/plain": [
       "buyer_id\n",
       "450afdfda068aa0    664\n",
       "d63d13cf5c8f252    228\n",
       "d39fb998724eb94     99\n",
       "30e5567877c6263     50\n",
       "7ba7ac85ee8ba1c     46\n",
       "f401cfddff767f7     39\n",
       "42c7d838c91dd9e     35\n",
       "95c37810b5309ce     33\n",
       "fea7a8dbfcd51e5     32\n",
       "d7a1278f09be5e8     32\n",
       "5fb3d17954838b2     26\n",
       "fe42721de77106c     23\n",
       "a50e56668bc91c8     20\n",
       "dca1971e3be2f7c     18\n",
       "c588767a9a0782c     16\n",
       "f17a4ac8b7f0d6c     15\n",
       "e3694f57063826a     14\n",
       "72d441ca0c574f5     14\n",
       "46f4708d23666fd     13\n",
       "f3581f8b7ec8481     12\n",
       "3a18c414b784056     12\n",
       "f575399b53a20a0     12\n",
       "22218b895be665b     11\n",
       "28b562ecacd0089     11\n",
       "ffbe7a01a899180     11\n",
       "6a0bdbc99dd62f5     10\n",
       "dc2abf87bc904b0     10\n",
       "b0c1e266a80cce0     10\n",
       "b20688098ef5a78      9\n",
       "b5afb808886996f      9\n",
       "99327630ced45c6      9\n",
       "90ad395b9b1ed7b      8\n",
       "132e50f118c9553      8\n",
       "a5e49f5e6d8cdd1      8\n",
       "12de6eca4a6734f      8\n",
       "ace49af8efbdb51      7\n",
       "8af8c85bb1e8488      7\n",
       "06e03558820317c      7\n",
       "0c3641ae23fe303      7\n",
       "f1a528ab8ab54ca      6\n",
       "86a5ffefa180731      6\n",
       "b3ad9def5c3c59a      6\n",
       "447278ea4922c10      6\n",
       "645a79bf346a08d      6\n",
       "5ce591d4a25b762      6\n",
       "bfefc608cf0620e      6\n",
       "d6f12e62319b6de      5\n",
       "228fe83dd07ab82      5\n",
       "b74d02990e885b0      5\n",
       "19cf8651de14712      5\n",
       "Name: room_id, dtype: int64"
      ]
     },
     "execution_count": 30,
     "metadata": {},
     "output_type": "execute_result"
    }
   ],
   "source": [
    "buyer_room_df = buyer_room_df.sort_values(ascending=False).head(50)\n",
    "buyer_room_df"
   ]
  },
  {
   "cell_type": "code",
   "execution_count": 32,
   "metadata": {},
   "outputs": [
    {
     "data": {
      "text/plain": [
       "0.5874351859650844"
      ]
     },
     "execution_count": 32,
     "metadata": {},
     "output_type": "execute_result"
    }
   ],
   "source": [
    "rooms[\"y_coord\"].max() - rooms[\"y_coord\"].min()"
   ]
  },
  {
   "cell_type": "code",
   "execution_count": null,
   "metadata": {},
   "outputs": [
    {
     "data": {
      "application/vnd.microsoft.datawrangler.viewer.v0+json": {
       "columns": [
        {
         "name": "index",
         "rawType": "int64",
         "type": "integer"
        },
        {
         "name": "month",
         "rawType": "datetime64[ns]",
         "type": "datetime"
        },
        {
         "name": "x_grid",
         "rawType": "float64",
         "type": "float"
        },
        {
         "name": "y_grid",
         "rawType": "float64",
         "type": "float"
        },
        {
         "name": "amount",
         "rawType": "float64",
         "type": "float"
        }
       ],
       "conversionMethod": "pd.DataFrame",
       "ref": "02a7b718-8971-4262-a054-b9397bc6c905",
       "rows": [
        [
         "0",
         "2019-01-01 00:00:00",
         "22.9255",
         "55.989000000000004",
         "32.461"
        ],
        [
         "1",
         "2019-01-01 00:00:00",
         "22.9255",
         "55.991400000000006",
         "1.5"
        ],
        [
         "2",
         "2019-01-01 00:00:00",
         "22.936500000000002",
         "56.0032",
         "2.6029999999999998"
        ],
        [
         "3",
         "2019-01-01 00:00:00",
         "22.937",
         "56.002700000000004",
         "5.192"
        ],
        [
         "4",
         "2019-01-01 00:00:00",
         "22.9389",
         "56.004400000000004",
         "3.6"
        ],
        [
         "5",
         "2019-01-01 00:00:00",
         "22.94",
         "56.0024",
         "65.318"
        ],
        [
         "6",
         "2019-01-01 00:00:00",
         "22.9402",
         "56.0045",
         "93.772"
        ],
        [
         "7",
         "2019-01-01 00:00:00",
         "22.9406",
         "56.0043",
         "55.7"
        ],
        [
         "8",
         "2019-01-01 00:00:00",
         "22.941000000000003",
         "56.002500000000005",
         "28.339"
        ],
        [
         "9",
         "2019-01-01 00:00:00",
         "22.941100000000002",
         "56.0018",
         "18.57"
        ],
        [
         "10",
         "2019-01-01 00:00:00",
         "22.941200000000002",
         "56.004000000000005",
         "67.734"
        ],
        [
         "11",
         "2019-01-01 00:00:00",
         "22.941300000000002",
         "56.001400000000004",
         "16.097"
        ],
        [
         "12",
         "2019-01-01 00:00:00",
         "22.9416",
         "56.002900000000004",
         "69.0"
        ],
        [
         "13",
         "2019-01-01 00:00:00",
         "22.9418",
         "56.0013",
         "40.074"
        ],
        [
         "14",
         "2019-01-01 00:00:00",
         "22.942",
         "56.002",
         "62.56"
        ],
        [
         "15",
         "2019-01-01 00:00:00",
         "22.9421",
         "56.0026",
         "65.16"
        ],
        [
         "16",
         "2019-01-01 00:00:00",
         "22.9423",
         "56.0016",
         "60.7"
        ],
        [
         "17",
         "2019-01-01 00:00:00",
         "22.942400000000003",
         "56.001000000000005",
         "28.33"
        ],
        [
         "18",
         "2019-01-01 00:00:00",
         "22.943",
         "56.000800000000005",
         "20.089"
        ],
        [
         "19",
         "2019-01-01 00:00:00",
         "22.943",
         "56.002100000000006",
         "131.303"
        ],
        [
         "20",
         "2019-01-01 00:00:00",
         "22.9432",
         "56.0016",
         "70.06700000000001"
        ],
        [
         "21",
         "2019-01-01 00:00:00",
         "22.9438",
         "56.0013",
         "91.189"
        ],
        [
         "22",
         "2019-01-01 00:00:00",
         "22.9445",
         "56.001400000000004",
         "90.78"
        ],
        [
         "23",
         "2019-01-01 00:00:00",
         "22.9446",
         "56.0037",
         "19.0"
        ],
        [
         "24",
         "2019-01-01 00:00:00",
         "22.9449",
         "56.002100000000006",
         "62.001"
        ],
        [
         "25",
         "2019-01-01 00:00:00",
         "22.945",
         "56.0034",
         "17.5"
        ],
        [
         "26",
         "2019-01-01 00:00:00",
         "22.945500000000003",
         "56.0026",
         "68.967"
        ],
        [
         "27",
         "2019-01-01 00:00:00",
         "22.945500000000003",
         "56.0031",
         "22.557000000000002"
        ],
        [
         "28",
         "2019-01-01 00:00:00",
         "22.9462",
         "56.0062",
         "13.3"
        ],
        [
         "29",
         "2019-01-01 00:00:00",
         "22.9464",
         "56.0056",
         "21.009"
        ],
        [
         "30",
         "2019-01-01 00:00:00",
         "22.947200000000002",
         "56.006",
         "1.9"
        ],
        [
         "31",
         "2019-01-01 00:00:00",
         "22.947300000000002",
         "56.006800000000005",
         "43.834"
        ],
        [
         "32",
         "2019-01-01 00:00:00",
         "22.948800000000002",
         "55.992200000000004",
         "49.1"
        ],
        [
         "33",
         "2019-01-01 00:00:00",
         "22.9495",
         "55.9904",
         "28.001"
        ],
        [
         "34",
         "2019-01-01 00:00:00",
         "22.9496",
         "55.9908",
         "62.47"
        ],
        [
         "35",
         "2019-01-01 00:00:00",
         "22.9499",
         "55.988",
         "70.278"
        ],
        [
         "36",
         "2019-01-01 00:00:00",
         "22.950100000000003",
         "55.9885",
         "83.717"
        ],
        [
         "37",
         "2019-01-01 00:00:00",
         "22.951",
         "55.9872",
         "95.253"
        ],
        [
         "38",
         "2019-01-01 00:00:00",
         "22.951",
         "55.9879",
         "116.011"
        ],
        [
         "39",
         "2019-01-01 00:00:00",
         "22.951",
         "55.988400000000006",
         "45.977000000000004"
        ],
        [
         "40",
         "2019-01-01 00:00:00",
         "22.9521",
         "55.9864",
         "100.729"
        ],
        [
         "41",
         "2019-01-01 00:00:00",
         "22.9521",
         "55.987100000000005",
         "66.429"
        ],
        [
         "42",
         "2019-01-01 00:00:00",
         "22.9522",
         "55.9885",
         "115.483"
        ],
        [
         "43",
         "2019-01-01 00:00:00",
         "22.953",
         "55.987100000000005",
         "53.455"
        ],
        [
         "44",
         "2019-01-01 00:00:00",
         "22.953",
         "55.9879",
         "68.18299999999999"
        ],
        [
         "45",
         "2019-01-01 00:00:00",
         "22.953300000000002",
         "55.9866",
         "54.246"
        ],
        [
         "46",
         "2019-01-01 00:00:00",
         "22.953500000000002",
         "55.987500000000004",
         "66.212"
        ],
        [
         "47",
         "2019-01-01 00:00:00",
         "22.9544",
         "55.9857",
         "26.432000000000002"
        ],
        [
         "48",
         "2019-01-01 00:00:00",
         "22.9545",
         "55.9868",
         "59.396"
        ],
        [
         "49",
         "2019-01-01 00:00:00",
         "22.954900000000002",
         "55.985600000000005",
         "17.490000000000002"
        ]
       ],
       "shape": {
        "columns": 4,
        "rows": 62947
       }
      },
      "text/html": [
       "<div>\n",
       "<style scoped>\n",
       "    .dataframe tbody tr th:only-of-type {\n",
       "        vertical-align: middle;\n",
       "    }\n",
       "\n",
       "    .dataframe tbody tr th {\n",
       "        vertical-align: top;\n",
       "    }\n",
       "\n",
       "    .dataframe thead th {\n",
       "        text-align: right;\n",
       "    }\n",
       "</style>\n",
       "<table border=\"1\" class=\"dataframe\">\n",
       "  <thead>\n",
       "    <tr style=\"text-align: right;\">\n",
       "      <th></th>\n",
       "      <th>month</th>\n",
       "      <th>x_grid</th>\n",
       "      <th>y_grid</th>\n",
       "      <th>amount</th>\n",
       "    </tr>\n",
       "  </thead>\n",
       "  <tbody>\n",
       "    <tr>\n",
       "      <th>0</th>\n",
       "      <td>2019-01-01</td>\n",
       "      <td>22.9255</td>\n",
       "      <td>55.9890</td>\n",
       "      <td>32.461</td>\n",
       "    </tr>\n",
       "    <tr>\n",
       "      <th>1</th>\n",
       "      <td>2019-01-01</td>\n",
       "      <td>22.9255</td>\n",
       "      <td>55.9914</td>\n",
       "      <td>1.500</td>\n",
       "    </tr>\n",
       "    <tr>\n",
       "      <th>2</th>\n",
       "      <td>2019-01-01</td>\n",
       "      <td>22.9365</td>\n",
       "      <td>56.0032</td>\n",
       "      <td>2.603</td>\n",
       "    </tr>\n",
       "    <tr>\n",
       "      <th>3</th>\n",
       "      <td>2019-01-01</td>\n",
       "      <td>22.9370</td>\n",
       "      <td>56.0027</td>\n",
       "      <td>5.192</td>\n",
       "    </tr>\n",
       "    <tr>\n",
       "      <th>4</th>\n",
       "      <td>2019-01-01</td>\n",
       "      <td>22.9389</td>\n",
       "      <td>56.0044</td>\n",
       "      <td>3.600</td>\n",
       "    </tr>\n",
       "    <tr>\n",
       "      <th>...</th>\n",
       "      <td>...</td>\n",
       "      <td>...</td>\n",
       "      <td>...</td>\n",
       "      <td>...</td>\n",
       "    </tr>\n",
       "    <tr>\n",
       "      <th>62942</th>\n",
       "      <td>2024-10-01</td>\n",
       "      <td>23.4233</td>\n",
       "      <td>55.9224</td>\n",
       "      <td>30.860</td>\n",
       "    </tr>\n",
       "    <tr>\n",
       "      <th>62943</th>\n",
       "      <td>2024-10-01</td>\n",
       "      <td>23.4233</td>\n",
       "      <td>55.9228</td>\n",
       "      <td>30.300</td>\n",
       "    </tr>\n",
       "    <tr>\n",
       "      <th>62944</th>\n",
       "      <td>2024-10-01</td>\n",
       "      <td>23.4237</td>\n",
       "      <td>55.9210</td>\n",
       "      <td>27.400</td>\n",
       "    </tr>\n",
       "    <tr>\n",
       "      <th>62945</th>\n",
       "      <td>2024-10-01</td>\n",
       "      <td>23.4243</td>\n",
       "      <td>55.9215</td>\n",
       "      <td>16.268</td>\n",
       "    </tr>\n",
       "    <tr>\n",
       "      <th>62946</th>\n",
       "      <td>2024-10-01</td>\n",
       "      <td>23.4247</td>\n",
       "      <td>55.9233</td>\n",
       "      <td>73.714</td>\n",
       "    </tr>\n",
       "  </tbody>\n",
       "</table>\n",
       "<p>62947 rows × 4 columns</p>\n",
       "</div>"
      ],
      "text/plain": [
       "           month   x_grid   y_grid  amount\n",
       "0     2019-01-01  22.9255  55.9890  32.461\n",
       "1     2019-01-01  22.9255  55.9914   1.500\n",
       "2     2019-01-01  22.9365  56.0032   2.603\n",
       "3     2019-01-01  22.9370  56.0027   5.192\n",
       "4     2019-01-01  22.9389  56.0044   3.600\n",
       "...          ...      ...      ...     ...\n",
       "62942 2024-10-01  23.4233  55.9224  30.860\n",
       "62943 2024-10-01  23.4233  55.9228  30.300\n",
       "62944 2024-10-01  23.4237  55.9210  27.400\n",
       "62945 2024-10-01  23.4243  55.9215  16.268\n",
       "62946 2024-10-01  23.4247  55.9233  73.714\n",
       "\n",
       "[62947 rows x 4 columns]"
      ]
     },
     "execution_count": 33,
     "metadata": {},
     "output_type": "execute_result"
    }
   ],
   "source": [
    "# Geospatial\n",
    "filtered_df = joined_df[joined_df[\"service_category\"] == \"Karštas vanduo\"]\n",
    "filtered_df = filtered_df[[\"month\", \"amount\", \"x_coord\", \"y_coord\"]]\n",
    "filtered_df.dropna(inplace=True)\n",
    "\n",
    "grid_size = 0.0001\n",
    "\n",
    "# Create new columns for the grid coordinates\n",
    "filtered_df['x_grid'] = (filtered_df['x_coord'] // grid_size) * grid_size\n",
    "filtered_df['y_grid'] = (filtered_df['y_coord'] // grid_size) * grid_size\n",
    "\n",
    "# Group by the grid coordinates and sum the amounts\n",
    "aggregated_df = filtered_df.groupby([\"month\", 'x_grid', 'y_grid']).agg({'amount': 'sum'}).reset_index()\n",
    "aggregated_df"
   ]
  },
  {
   "cell_type": "code",
   "execution_count": null,
   "metadata": {},
   "outputs": [
    {
     "data": {
      "application/vnd.microsoft.datawrangler.viewer.v0+json": {
       "columns": [
        {
         "name": "index",
         "rawType": "int64",
         "type": "integer"
        },
        {
         "name": "build_year",
         "rawType": "int32",
         "type": "integer"
        },
        {
         "name": "x_coord",
         "rawType": "float64",
         "type": "float"
        },
        {
         "name": "y_coord",
         "rawType": "float64",
         "type": "float"
        }
       ],
       "conversionMethod": "pd.DataFrame",
       "ref": "b15597ce-f817-4098-b6bd-11eea6dfb190",
       "rows": [
        [
         "0",
         "1981",
         "23.303357596645927",
         "55.93434608185759"
        ],
        [
         "1",
         "1984",
         "22.951034101185613",
         "55.987235079458756"
        ],
        [
         "2",
         "1937",
         "23.31540251151393",
         "55.93287742045852"
        ],
        [
         "3",
         "2007",
         "23.309599167108246",
         "55.92894620271307"
        ],
        [
         "4",
         "1900",
         "23.274151881355852",
         "55.906005131010666"
        ]
       ],
       "shape": {
        "columns": 3,
        "rows": 5
       }
      },
      "text/html": [
       "<div>\n",
       "<style scoped>\n",
       "    .dataframe tbody tr th:only-of-type {\n",
       "        vertical-align: middle;\n",
       "    }\n",
       "\n",
       "    .dataframe tbody tr th {\n",
       "        vertical-align: top;\n",
       "    }\n",
       "\n",
       "    .dataframe thead th {\n",
       "        text-align: right;\n",
       "    }\n",
       "</style>\n",
       "<table border=\"1\" class=\"dataframe\">\n",
       "  <thead>\n",
       "    <tr style=\"text-align: right;\">\n",
       "      <th></th>\n",
       "      <th>build_year</th>\n",
       "      <th>x_coord</th>\n",
       "      <th>y_coord</th>\n",
       "    </tr>\n",
       "  </thead>\n",
       "  <tbody>\n",
       "    <tr>\n",
       "      <th>0</th>\n",
       "      <td>1981</td>\n",
       "      <td>23.303358</td>\n",
       "      <td>55.934346</td>\n",
       "    </tr>\n",
       "    <tr>\n",
       "      <th>1</th>\n",
       "      <td>1984</td>\n",
       "      <td>22.951034</td>\n",
       "      <td>55.987235</td>\n",
       "    </tr>\n",
       "    <tr>\n",
       "      <th>2</th>\n",
       "      <td>1937</td>\n",
       "      <td>23.315403</td>\n",
       "      <td>55.932877</td>\n",
       "    </tr>\n",
       "    <tr>\n",
       "      <th>3</th>\n",
       "      <td>2007</td>\n",
       "      <td>23.309599</td>\n",
       "      <td>55.928946</td>\n",
       "    </tr>\n",
       "    <tr>\n",
       "      <th>4</th>\n",
       "      <td>1900</td>\n",
       "      <td>23.274152</td>\n",
       "      <td>55.906005</td>\n",
       "    </tr>\n",
       "  </tbody>\n",
       "</table>\n",
       "</div>"
      ],
      "text/plain": [
       "   build_year    x_coord    y_coord\n",
       "0        1981  23.303358  55.934346\n",
       "1        1984  22.951034  55.987235\n",
       "2        1937  23.315403  55.932877\n",
       "3        2007  23.309599  55.928946\n",
       "4        1900  23.274152  55.906005"
      ]
     },
     "execution_count": 34,
     "metadata": {},
     "output_type": "execute_result"
    }
   ],
   "source": [
    "# geospatial building age data\n",
    "builds = rooms.groupby(\"building_id\").first()[[\"build_year\", \"x_coord\", \"y_coord\"]].reset_index(drop=True)\n",
    "builds.dropna(inplace=True)\n",
    "builds[\"build_year\"] = builds[\"build_year\"].dt.year.astype(int)\n",
    "builds.head()"
   ]
  },
  {
   "cell_type": "code",
   "execution_count": null,
   "metadata": {},
   "outputs": [
    {
     "data": {
      "application/vnd.microsoft.datawrangler.viewer.v0+json": {
       "columns": [
        {
         "name": "index",
         "rawType": "int64",
         "type": "integer"
        },
        {
         "name": "building_floors",
         "rawType": "float64",
         "type": "float"
        },
        {
         "name": "x_coord",
         "rawType": "float64",
         "type": "float"
        },
        {
         "name": "y_coord",
         "rawType": "float64",
         "type": "float"
        }
       ],
       "conversionMethod": "pd.DataFrame",
       "ref": "c01bb1db-776c-42d2-addf-67636237fff4",
       "rows": [
        [
         "0",
         "5.0",
         "23.303357596645927",
         "55.93434608185759"
        ],
        [
         "1",
         "5.0",
         "22.951034101185613",
         "55.987235079458756"
        ],
        [
         "2",
         "3.0",
         "23.31540251151393",
         "55.93287742045852"
        ],
        [
         "3",
         "13.0",
         "23.309599167108246",
         "55.92894620271307"
        ],
        [
         "4",
         "1.0",
         "23.274151881355852",
         "55.906005131010666"
        ]
       ],
       "shape": {
        "columns": 3,
        "rows": 5
       }
      },
      "text/html": [
       "<div>\n",
       "<style scoped>\n",
       "    .dataframe tbody tr th:only-of-type {\n",
       "        vertical-align: middle;\n",
       "    }\n",
       "\n",
       "    .dataframe tbody tr th {\n",
       "        vertical-align: top;\n",
       "    }\n",
       "\n",
       "    .dataframe thead th {\n",
       "        text-align: right;\n",
       "    }\n",
       "</style>\n",
       "<table border=\"1\" class=\"dataframe\">\n",
       "  <thead>\n",
       "    <tr style=\"text-align: right;\">\n",
       "      <th></th>\n",
       "      <th>building_floors</th>\n",
       "      <th>x_coord</th>\n",
       "      <th>y_coord</th>\n",
       "    </tr>\n",
       "  </thead>\n",
       "  <tbody>\n",
       "    <tr>\n",
       "      <th>0</th>\n",
       "      <td>5.0</td>\n",
       "      <td>23.303358</td>\n",
       "      <td>55.934346</td>\n",
       "    </tr>\n",
       "    <tr>\n",
       "      <th>1</th>\n",
       "      <td>5.0</td>\n",
       "      <td>22.951034</td>\n",
       "      <td>55.987235</td>\n",
       "    </tr>\n",
       "    <tr>\n",
       "      <th>2</th>\n",
       "      <td>3.0</td>\n",
       "      <td>23.315403</td>\n",
       "      <td>55.932877</td>\n",
       "    </tr>\n",
       "    <tr>\n",
       "      <th>3</th>\n",
       "      <td>13.0</td>\n",
       "      <td>23.309599</td>\n",
       "      <td>55.928946</td>\n",
       "    </tr>\n",
       "    <tr>\n",
       "      <th>4</th>\n",
       "      <td>1.0</td>\n",
       "      <td>23.274152</td>\n",
       "      <td>55.906005</td>\n",
       "    </tr>\n",
       "  </tbody>\n",
       "</table>\n",
       "</div>"
      ],
      "text/plain": [
       "   building_floors    x_coord    y_coord\n",
       "0              5.0  23.303358  55.934346\n",
       "1              5.0  22.951034  55.987235\n",
       "2              3.0  23.315403  55.932877\n",
       "3             13.0  23.309599  55.928946\n",
       "4              1.0  23.274152  55.906005"
      ]
     },
     "execution_count": 35,
     "metadata": {},
     "output_type": "execute_result"
    }
   ],
   "source": [
    "# geospatial building floor data\n",
    "builds = rooms.groupby(\"building_id\").first()[[\"building_floors\", \"x_coord\", \"y_coord\"]].reset_index(drop=True)\n",
    "builds.dropna(inplace=True)\n",
    "builds.head()"
   ]
  },
  {
   "cell_type": "code",
   "execution_count": 36,
   "metadata": {},
   "outputs": [
    {
     "data": {
      "text/plain": [
       "0           1965.0\n",
       "1           1963.0\n",
       "2           1967.0\n",
       "3           1969.0\n",
       "4           1961.0\n",
       "             ...  \n",
       "17315985    1992.0\n",
       "17315986    1989.0\n",
       "17315987    1964.0\n",
       "17315988    1969.0\n",
       "17315989    1987.0\n",
       "Name: build_year, Length: 17315990, dtype: float64"
      ]
     },
     "execution_count": 36,
     "metadata": {},
     "output_type": "execute_result"
    },
    {
     "data": {
      "image/png": "[encoded data removed]",
      "text/plain": [
       "<Figure size 640x480 with 1 Axes>"
      ]
     },
     "metadata": {},
     "output_type": "display_data"
    }
   ],
   "source": [
    "years = joined_df[\"build_year\"]\n",
    "years = years.dt.year\n",
    "years.hist(bins=40)\n",
    "plt.xlim(1940)\n",
    "years"
   ]
  },
  {
   "cell_type": "code",
   "execution_count": 37,
   "metadata": {},
   "outputs": [],
   "source": [
    "filtered_df = joined_df[joined_df[\"service_category\"] == \"Šiluma\"]\n",
    "filtered_df = filtered_df.groupby([\"room_id\", \"month\"])[\"amount\"].sum().reset_index()\n",
    "filtered_df = filtered_df.groupby(\"room_id\")[\"amount\"].mean().reset_index()"
   ]
  },
  {
   "cell_type": "code",
   "execution_count": 38,
   "metadata": {},
   "outputs": [
    {
     "data": {
      "application/vnd.microsoft.datawrangler.viewer.v0+json": {
       "columns": [
        {
         "name": "index",
         "rawType": "int64",
         "type": "integer"
        },
        {
         "name": "room_id",
         "rawType": "object",
         "type": "string"
        },
        {
         "name": "amount",
         "rawType": "float64",
         "type": "float"
        },
        {
         "name": "room_area",
         "rawType": "float64",
         "type": "float"
        },
        {
         "name": "build_year",
         "rawType": "float64",
         "type": "float"
        },
        {
         "name": "building_func",
         "rawType": "object",
         "type": "string"
        },
        {
         "name": "eff",
         "rawType": "float64",
         "type": "float"
        }
       ],
       "conversionMethod": "pd.DataFrame",
       "ref": "9b004657-6aa3-446e-9516-47ce2ff11999",
       "rows": [
        [
         "0",
         "0000f5a306aa85a",
         "596.8728414285714",
         "50.1",
         "1987.0",
         "Gyvenamasis (trijų ir daugiau butų - daugiaaukštis pastatas)",
         "11.913629569432562"
        ],
        [
         "1",
         "0003b5d9f0dca41",
         "610.1528128571429",
         "45.85",
         "1966.0",
         "Gyvenamasis (trijų ir daugiau butų - daugiaaukštis pastatas)",
         "13.30758588565197"
        ],
        [
         "2",
         "00044f4c89baa63",
         "321.9332914285714",
         "17.78",
         "1973.0",
         "Gyvenamasis (trijų ir daugiau butų - daugiaaukštis pastatas)",
         "18.106484332315603"
        ],
        [
         "3",
         "0005b1cb5c56b3f",
         "674.91396",
         "36.24",
         "1982.0",
         "Gyvenamasis (trijų ir daugiau butų - daugiaaukštis pastatas)",
         "18.623453642384103"
        ],
        [
         "4",
         "0006d206de1f4df",
         "188.7566612903226",
         "18.7",
         "1972.0",
         "Gyvenamasis (trijų ir daugiau butų - daugiaaukštis pastatas)",
         "10.093939106434364"
        ],
        [
         "5",
         "0007c3c49dcb7a3",
         "675.4855471428571",
         "50.96",
         "1980.0",
         "Gyvenamasis (trijų ir daugiau butų - daugiaaukštis pastatas)",
         "13.255210893698136"
        ],
        [
         "6",
         "0007ced60690084",
         "458.9289742857143",
         "62.72",
         "1991.0",
         "Gyvenamasis (trijų ir daugiau butų - daugiaaukštis pastatas)",
         "7.317107370626822"
        ],
        [
         "7",
         "0008eff6121c2ae",
         "629.4263142857143",
         "49.65",
         "1985.0",
         "Gyvenamasis (trijų ir daugiau butų - daugiaaukštis pastatas)",
         "12.67726715580492"
        ],
        [
         "8",
         "0008f8706366bce",
         "904.07889",
         "65.55",
         "1987.0",
         "Gyvenamasis (trijų ir daugiau butų - daugiaaukštis pastatas)",
         "13.792202745995423"
        ],
        [
         "9",
         "000a8e546f2f4c8",
         "1011.3892523809524",
         "63.29",
         "1978.0",
         "Gyvenamasis (trijų ir daugiau butų - daugiaaukštis pastatas)",
         "15.980237831900022"
        ],
        [
         "10",
         "000ad1ef3136102",
         "548.6571914285714",
         "50.49",
         "1990.0",
         "Gyvenamasis (trijų ir daugiau butų - daugiaaukštis pastatas)",
         "10.866650652180063"
        ],
        [
         "11",
         "000ad69bfe5fc92",
         "529.6462442857143",
         "49.41",
         "1977.0",
         "Gyvenamasis (trijų ir daugiau butų - daugiaaukštis pastatas)",
         "10.719413970566976"
        ],
        [
         "12",
         "000ade88dfae66d",
         "568.3797457142857",
         "49.12",
         "1979.0",
         "Gyvenamasis (trijų ir daugiau butų - daugiaaukštis pastatas)",
         "11.571248894834808"
        ],
        [
         "13",
         "000b66bc9744835",
         "353.5802757142857",
         "30.18",
         "1972.0",
         "Gyvenamasis (trijų ir daugiau butų - daugiaaukštis pastatas)",
         "11.71571490106977"
        ],
        [
         "14",
         "000ce2c08cac272",
         "427.7244785714286",
         "29.3",
         "1975.0",
         "Gyvenamasis (trijų ir daugiau butų - daugiaaukštis pastatas)",
         "14.598105070697223"
        ],
        [
         "15",
         "00102f721d97d4e",
         "424.71294857142857",
         "47.53",
         "1982.0",
         "Gyvenamasis (trijų ir daugiau butų - daugiaaukštis pastatas)",
         "8.935681644675544"
        ],
        [
         "16",
         "0010baf3d6e28ee",
         "551.3961714285715",
         "48.97",
         "1979.0",
         "Gyvenamasis (trijų ir daugiau butų - daugiaaukštis pastatas)",
         "11.259876892558127"
        ],
        [
         "17",
         "0014f30aa7fa50b",
         "503.5072542857143",
         "47.23",
         "1972.0",
         "Gyvenamasis (trijų ir daugiau butų - daugiaaukštis pastatas)",
         "10.660750672998397"
        ],
        [
         "18",
         "00157976e3285aa",
         "983.2952790697674",
         "57.16",
         "1954.0",
         "Gyvenamasis (trijų ir daugiau butų - daugiaaukštis pastatas)",
         "17.20250663173141"
        ],
        [
         "19",
         "0018186a355caf5",
         "737.7752857142857",
         "65.22",
         "1980.0",
         "Gyvenamasis (trijų ir daugiau butų - daugiaaukštis pastatas)",
         "11.312101896876506"
        ],
        [
         "20",
         "0018c89ef64c3f8",
         "623.3302271428571",
         "61.79",
         "1967.0",
         "Gyvenamasis (trijų ir daugiau butų - daugiaaukštis pastatas)",
         "10.087881973504727"
        ],
        [
         "21",
         "001d5a38ae549b9",
         "577.3276585714285",
         "44.43",
         "1969.0",
         "Gyvenamasis (trijų ir daugiau butų - daugiaaukštis pastatas)",
         "12.994095398861772"
        ],
        [
         "22",
         "001d603855df118",
         "542.1458042857142",
         "50.72",
         "1971.0",
         "Gyvenamasis (trijų ir daugiau butų - daugiaaukštis pastatas)",
         "10.68899456399279"
        ],
        [
         "23",
         "00212feffefd5eb",
         "387.15288",
         "32.9",
         "1989.0",
         "Gyvenamasis (trijų ir daugiau butų - daugiaaukštis pastatas)",
         "11.767564741641337"
        ],
        [
         "24",
         "0021dc9e8ac3806",
         "555.1517371428571",
         "44.37",
         "1970.0",
         "Gyvenamasis (trijų ir daugiau butų - daugiaaukštis pastatas)",
         "12.51187147042725"
        ],
        [
         "25",
         "00223c07dd33bb3",
         "202.67739142857144",
         "17.81",
         "1973.0",
         "Gyvenamasis (trijų ir daugiau butų - daugiaaukštis pastatas)",
         "11.379977059436914"
        ],
        [
         "26",
         "00231b0fb01e558",
         "666.7710957142857",
         "52.01",
         "1987.0",
         "Gyvenamasis (trijų ir daugiau butų - daugiaaukštis pastatas)",
         "12.820055676106243"
        ],
        [
         "27",
         "0023b02844bd502",
         "819.5636499999999",
         "63.92",
         "1982.0",
         "Gyvenamasis (trijų ir daugiau butų - daugiaaukštis pastatas)",
         "12.821709167709635"
        ],
        [
         "28",
         "0025fefd57c28b0",
         "795.8377428571429",
         "70.58",
         "1960.0",
         "Gyvenamasis (trijų ir daugiau butų - daugiaaukštis pastatas)",
         "11.275683520220216"
        ],
        [
         "29",
         "0027ed4273be1df",
         "495.60507714285717",
         "44.42",
         "1965.0",
         "Gyvenamasis (trijų ir daugiau butų - daugiaaukštis pastatas)",
         "11.157250723612272"
        ],
        [
         "30",
         "0029454d2bc26a6",
         "645.21647",
         "49.96",
         "1987.0",
         "Gyvenamasis (trijų ir daugiau butų - daugiaaukštis pastatas)",
         "12.914661128903122"
        ],
        [
         "31",
         "002b6dcb573e24c",
         "578.4489457142857",
         "50.5",
         "1991.0",
         "Gyvenamasis (trijų ir daugiau butų - daugiaaukštis pastatas)",
         "11.454434568599718"
        ],
        [
         "32",
         "003062fc340f3a5",
         "635.2653642857143",
         "37.99",
         "1965.0",
         "Gyvenamasis (trijų ir daugiau butų - daugiaaukštis pastatas)",
         "16.7219100891212"
        ],
        [
         "33",
         "0030cb575382ff5",
         "569.35484",
         "51.08",
         "1988.0",
         "Gyvenamasis (trijų ir daugiau butų - daugiaaukštis pastatas)",
         "11.146335943617855"
        ],
        [
         "34",
         "0031a783ebdb25c",
         "681.6546014285714",
         "63.96",
         "1983.0",
         "Gyvenamasis (trijų ir daugiau butų - daugiaaukštis pastatas)",
         "10.657514093629946"
        ],
        [
         "35",
         "0034d8d1ab983a2",
         "546.2002442857142",
         "36.37",
         "1991.0",
         "Gyvenamasis (trijų ir daugiau butų - daugiaaukštis pastatas)",
         "15.017878589104049"
        ],
        [
         "36",
         "0035a7ed86b1445",
         "664.9495428571429",
         "50.19",
         "1988.0",
         "Gyvenamasis (trijų ir daugiau butų - daugiaaukštis pastatas)",
         "13.24864600233399"
        ],
        [
         "37",
         "003859d3d9c6bec",
         "464.0828785714286",
         "36.24",
         "1987.0",
         "Gyvenamasis (trijų ir daugiau butų - daugiaaukštis pastatas)",
         "12.805818945127719"
        ],
        [
         "38",
         "0039ee8a735b239",
         "1834.3095238095239",
         "106.22",
         "1900.0",
         "Gyvenamasis (individualus pastatas)",
         "17.26896557907667"
        ],
        [
         "39",
         "003ded9a9fa4431",
         "256.6809542857143",
         "17.81",
         "1972.0",
         "Gyvenamasis (trijų ir daugiau butų - daugiaaukštis pastatas)",
         "14.412181599422476"
        ],
        [
         "40",
         "003e5867e9d4d78",
         "793.7536042857142",
         "64.09",
         "1979.0",
         "Gyvenamasis (trijų ir daugiau butų - daugiaaukštis pastatas)",
         "12.384983683659138"
        ],
        [
         "41",
         "003f13cb3e33d85",
         "219.6967215142857",
         "43.22",
         "2006.0",
         "Gyvenamasis (trijų ir daugiau butų - daugiaaukštis pastatas)",
         "5.083218915184769"
        ],
        [
         "42",
         "003fab3b841f34e",
         "602.7898628571428",
         "49.31",
         "1985.0",
         "Gyvenamasis (trijų ir daugiau butų - daugiaaukštis pastatas)",
         "12.224495292174868"
        ],
        [
         "43",
         "0042210cd962246",
         "805.8830928571429",
         "64.36",
         "1974.0",
         "Gyvenamasis (trijų ir daugiau butų - daugiaaukštis pastatas)",
         "12.5214899449525"
        ],
        [
         "44",
         "004652bb9e4b941",
         "583.6199357142857",
         "50.01",
         "1974.0",
         "Gyvenamasis (trijų ir daugiau butų - daugiaaukštis pastatas)",
         "11.670064701345446"
        ],
        [
         "45",
         "0046894b4354c7f",
         "545.3013828571428",
         "49.61",
         "1981.0",
         "Gyvenamasis (trijų ir daugiau butų - daugiaaukštis pastatas)",
         "10.991763411754542"
        ],
        [
         "46",
         "0048b51db05081a",
         "523.3813857142857",
         "50.39",
         "1980.0",
         "Gyvenamasis (trijų ir daugiau butų - daugiaaukštis pastatas)",
         "10.386612139596858"
        ],
        [
         "47",
         "004bed33787ee77",
         "724.4336257142857",
         "64.71",
         "1975.0",
         "Gyvenamasis (trijų ir daugiau butų - daugiaaukštis pastatas)",
         "11.195079983221847"
        ],
        [
         "48",
         "004c3fbf83fcf89",
         "578.0117899999999",
         "50.17",
         "1981.0",
         "Gyvenamasis (trijų ir daugiau butų - daugiaaukštis pastatas)",
         "11.52106418178194"
        ],
        [
         "49",
         "004eb996cc7d86a",
         "326.55489066666667",
         "55.81",
         "2018.0",
         "Gyvenamasis (trijų ir daugiau butų - daugiaaukštis pastatas)",
         "5.851189583706623"
        ]
       ],
       "shape": {
        "columns": 6,
        "rows": 44570
       }
      },
      "text/html": [
       "<div>\n",
       "<style scoped>\n",
       "    .dataframe tbody tr th:only-of-type {\n",
       "        vertical-align: middle;\n",
       "    }\n",
       "\n",
       "    .dataframe tbody tr th {\n",
       "        vertical-align: top;\n",
       "    }\n",
       "\n",
       "    .dataframe thead th {\n",
       "        text-align: right;\n",
       "    }\n",
       "</style>\n",
       "<table border=\"1\" class=\"dataframe\">\n",
       "  <thead>\n",
       "    <tr style=\"text-align: right;\">\n",
       "      <th></th>\n",
       "      <th>room_id</th>\n",
       "      <th>amount</th>\n",
       "      <th>room_area</th>\n",
       "      <th>build_year</th>\n",
       "      <th>building_func</th>\n",
       "      <th>eff</th>\n",
       "    </tr>\n",
       "  </thead>\n",
       "  <tbody>\n",
       "    <tr>\n",
       "      <th>0</th>\n",
       "      <td>0000f5a306aa85a</td>\n",
       "      <td>596.872841</td>\n",
       "      <td>50.10</td>\n",
       "      <td>1987.0</td>\n",
       "      <td>Gyvenamasis (trijų ir daugiau butų - daugiaauk...</td>\n",
       "      <td>11.913630</td>\n",
       "    </tr>\n",
       "    <tr>\n",
       "      <th>1</th>\n",
       "      <td>0003b5d9f0dca41</td>\n",
       "      <td>610.152813</td>\n",
       "      <td>45.85</td>\n",
       "      <td>1966.0</td>\n",
       "      <td>Gyvenamasis (trijų ir daugiau butų - daugiaauk...</td>\n",
       "      <td>13.307586</td>\n",
       "    </tr>\n",
       "    <tr>\n",
       "      <th>2</th>\n",
       "      <td>00044f4c89baa63</td>\n",
       "      <td>321.933291</td>\n",
       "      <td>17.78</td>\n",
       "      <td>1973.0</td>\n",
       "      <td>Gyvenamasis (trijų ir daugiau butų - daugiaauk...</td>\n",
       "      <td>18.106484</td>\n",
       "    </tr>\n",
       "    <tr>\n",
       "      <th>3</th>\n",
       "      <td>0005b1cb5c56b3f</td>\n",
       "      <td>674.913960</td>\n",
       "      <td>36.24</td>\n",
       "      <td>1982.0</td>\n",
       "      <td>Gyvenamasis (trijų ir daugiau butų - daugiaauk...</td>\n",
       "      <td>18.623454</td>\n",
       "    </tr>\n",
       "    <tr>\n",
       "      <th>4</th>\n",
       "      <td>0006d206de1f4df</td>\n",
       "      <td>188.756661</td>\n",
       "      <td>18.70</td>\n",
       "      <td>1972.0</td>\n",
       "      <td>Gyvenamasis (trijų ir daugiau butų - daugiaauk...</td>\n",
       "      <td>10.093939</td>\n",
       "    </tr>\n",
       "    <tr>\n",
       "      <th>...</th>\n",
       "      <td>...</td>\n",
       "      <td>...</td>\n",
       "      <td>...</td>\n",
       "      <td>...</td>\n",
       "      <td>...</td>\n",
       "      <td>...</td>\n",
       "    </tr>\n",
       "    <tr>\n",
       "      <th>44835</th>\n",
       "      <td>fffa5db39533088</td>\n",
       "      <td>416.538259</td>\n",
       "      <td>36.13</td>\n",
       "      <td>1983.0</td>\n",
       "      <td>Gyvenamasis (trijų ir daugiau butų - daugiaauk...</td>\n",
       "      <td>11.528875</td>\n",
       "    </tr>\n",
       "    <tr>\n",
       "      <th>44836</th>\n",
       "      <td>fffb874c4de8366</td>\n",
       "      <td>831.716616</td>\n",
       "      <td>65.54</td>\n",
       "      <td>1985.0</td>\n",
       "      <td>Gyvenamasis (trijų ir daugiau butų - daugiaauk...</td>\n",
       "      <td>12.690214</td>\n",
       "    </tr>\n",
       "    <tr>\n",
       "      <th>44837</th>\n",
       "      <td>fffbb9a4a3e62b7</td>\n",
       "      <td>579.197359</td>\n",
       "      <td>50.62</td>\n",
       "      <td>1981.0</td>\n",
       "      <td>Gyvenamasis (trijų ir daugiau butų - daugiaauk...</td>\n",
       "      <td>11.442066</td>\n",
       "    </tr>\n",
       "    <tr>\n",
       "      <th>44838</th>\n",
       "      <td>fffdcb94cc425f1</td>\n",
       "      <td>342.482600</td>\n",
       "      <td>43.12</td>\n",
       "      <td>1962.0</td>\n",
       "      <td>Gyvenamasis (trijų ir daugiau butų - daugiaauk...</td>\n",
       "      <td>7.942546</td>\n",
       "    </tr>\n",
       "    <tr>\n",
       "      <th>44839</th>\n",
       "      <td>ffffde82ece4b49</td>\n",
       "      <td>698.741329</td>\n",
       "      <td>49.92</td>\n",
       "      <td>1979.0</td>\n",
       "      <td>Gyvenamasis (trijų ir daugiau butų - daugiaauk...</td>\n",
       "      <td>13.997222</td>\n",
       "    </tr>\n",
       "  </tbody>\n",
       "</table>\n",
       "<p>44570 rows × 6 columns</p>\n",
       "</div>"
      ],
      "text/plain": [
       "               room_id      amount  room_area  build_year  \\\n",
       "0      0000f5a306aa85a  596.872841      50.10      1987.0   \n",
       "1      0003b5d9f0dca41  610.152813      45.85      1966.0   \n",
       "2      00044f4c89baa63  321.933291      17.78      1973.0   \n",
       "3      0005b1cb5c56b3f  674.913960      36.24      1982.0   \n",
       "4      0006d206de1f4df  188.756661      18.70      1972.0   \n",
       "...                ...         ...        ...         ...   \n",
       "44835  fffa5db39533088  416.538259      36.13      1983.0   \n",
       "44836  fffb874c4de8366  831.716616      65.54      1985.0   \n",
       "44837  fffbb9a4a3e62b7  579.197359      50.62      1981.0   \n",
       "44838  fffdcb94cc425f1  342.482600      43.12      1962.0   \n",
       "44839  ffffde82ece4b49  698.741329      49.92      1979.0   \n",
       "\n",
       "                                           building_func        eff  \n",
       "0      Gyvenamasis (trijų ir daugiau butų - daugiaauk...  11.913630  \n",
       "1      Gyvenamasis (trijų ir daugiau butų - daugiaauk...  13.307586  \n",
       "2      Gyvenamasis (trijų ir daugiau butų - daugiaauk...  18.106484  \n",
       "3      Gyvenamasis (trijų ir daugiau butų - daugiaauk...  18.623454  \n",
       "4      Gyvenamasis (trijų ir daugiau butų - daugiaauk...  10.093939  \n",
       "...                                                  ...        ...  \n",
       "44835  Gyvenamasis (trijų ir daugiau butų - daugiaauk...  11.528875  \n",
       "44836  Gyvenamasis (trijų ir daugiau butų - daugiaauk...  12.690214  \n",
       "44837  Gyvenamasis (trijų ir daugiau butų - daugiaauk...  11.442066  \n",
       "44838  Gyvenamasis (trijų ir daugiau butų - daugiaauk...   7.942546  \n",
       "44839  Gyvenamasis (trijų ir daugiau butų - daugiaauk...  13.997222  \n",
       "\n",
       "[44570 rows x 6 columns]"
      ]
     },
     "execution_count": 38,
     "metadata": {},
     "output_type": "execute_result"
    }
   ],
   "source": [
    "merged_df = pd.merge(filtered_df, rooms[[\"room_id\", \"room_area\", \"build_year\", \"building_func\"]], on=\"room_id\", how=\"left\")\n",
    "merged_df = merged_df[merged_df[\"room_area\"] > 1]\n",
    "merged_df[\"eff\"] = merged_df[\"amount\"] / merged_df[\"room_area\"]\n",
    "merged_df[\"build_year\"] = merged_df[\"build_year\"].dt.year\n",
    "merged_df"
   ]
  },
  {
   "cell_type": "code",
   "execution_count": 39,
   "metadata": {},
   "outputs": [
    {
     "name": "stderr",
     "output_type": "stream",
     "text": [
      "C:\\Users\\zygim\\AppData\\Local\\Temp\\ipykernel_9636\\1434966582.py:4: FutureWarning: The default of observed=False is deprecated and will be changed to True in a future version of pandas. Pass observed=False to retain current behavior or observed=True to adopt the future default and silence this warning.\n",
      "  area_df = area_df.groupby(\"area_bins\")[\"eff\"].mean().reset_index()\n"
     ]
    }
   ],
   "source": [
    "area_df = merged_df[merged_df[\"room_area\"] < 120]\n",
    "area_df = area_df[[\"room_area\", \"eff\"]].sort_values(by=\"room_area\")\n",
    "area_df[\"area_bins\"] = pd.cut(area_df[\"room_area\"], bins=[0, 20, 40, 60, 80, 100, 120], labels=[\"0-20\", \"21-40\", \"41-60\", \"61-80\", \"81-100\", \"101-120\"])\n",
    "area_df = area_df.groupby(\"area_bins\")[\"eff\"].mean().reset_index()\n",
    "#area_df.to_csv(\"area_df.csv\")"
   ]
  },
  {
   "cell_type": "code",
   "execution_count": 40,
   "metadata": {},
   "outputs": [
    {
     "data": {
      "text/plain": [
       "<Axes: >"
      ]
     },
     "execution_count": 40,
     "metadata": {},
     "output_type": "execute_result"
    },
    {
     "data": {
      "image/png": "[encoded data removed]",
      "text/plain": [
       "<Figure size 640x480 with 1 Axes>"
      ]
     },
     "metadata": {},
     "output_type": "display_data"
    }
   ],
   "source": [
    "area_df.plot(kind=\"bar\")"
   ]
  },
  {
   "cell_type": "code",
   "execution_count": 41,
   "metadata": {},
   "outputs": [
    {
     "data": {
      "text/plain": [
       "building_func\n",
       "Transporto                                                      33.172033\n",
       "Maitinimo                                                       20.305455\n",
       "Gyvenamasis (individualus pastatas)                             15.982357\n",
       "Religinės                                                       14.880119\n",
       "Kita                                                            14.418169\n",
       "Gydymo                                                          14.341770\n",
       "Administracinė                                                  13.624995\n",
       "Kultūros                                                        13.324165\n",
       "Gamybos                                                         12.631251\n",
       "Prekybos                                                        12.159059\n",
       "Gyvenamasis (trijų ir daugiau butų - daugiaaukštis pastatas)    11.909166\n",
       "Sporto                                                          10.928788\n",
       "Mokslo                                                           8.730434\n",
       "Viešbučių                                                        7.962900\n",
       "Sandėliavimo                                                     7.720923\n",
       "Komercinės paskirties                                            7.020976\n",
       "Name: eff, dtype: float64"
      ]
     },
     "execution_count": 41,
     "metadata": {},
     "output_type": "execute_result"
    }
   ],
   "source": [
    "func_df = merged_df.groupby(\"building_func\")[\"eff\"].mean().sort_values(ascending=False)\n",
    "#func_df.to_csv(\"func_df.csv\")\n",
    "func_df"
   ]
  },
  {
   "cell_type": "markdown",
   "metadata": {},
   "source": [
    "Buildings are limited from 1900 to 2019 because the sample size is way too small to get an accurate average heat consumption"
   ]
  },
  {
   "cell_type": "code",
   "execution_count": 42,
   "metadata": {},
   "outputs": [
    {
     "data": {
      "text/plain": [
       "<Axes: xlabel='build_year'>"
      ]
     },
     "execution_count": 42,
     "metadata": {},
     "output_type": "execute_result"
    },
    {
     "data": {
      "image/png": "[encoded data removed]",
      "text/plain": [
       "<Figure size 640x480 with 1 Axes>"
      ]
     },
     "metadata": {},
     "output_type": "display_data"
    }
   ],
   "source": [
    "grouped_df = merged_df\n",
    "grouped_df = grouped_df[grouped_df[\"build_year\"] >= 1900]\n",
    "grouped_df = grouped_df[grouped_df[\"build_year\"] <= 2019]\n",
    "grouped_df[\"build_year\"] = grouped_df[\"build_year\"] // 10 * 10\n",
    "grouped_df[\"build_year\"] = grouped_df[\"build_year\"].astype(\"Int64\")\n",
    "grouped_df = grouped_df.groupby(\"build_year\")[\"eff\"].mean()\n",
    "grouped_df.plot(kind=\"bar\")\n",
    "#grouped_df.to_csv(\"heat_by_build_year.csv\")"
   ]
  },
  {
   "cell_type": "code",
   "execution_count": 43,
   "metadata": {},
   "outputs": [
    {
     "data": {
      "text/plain": [
       "mean       72.479710\n",
       "std       473.293482\n",
       "min         0.430000\n",
       "25%        37.960000\n",
       "50%        49.610000\n",
       "75%        57.852500\n",
       "max     40760.330000\n",
       "Name: room_area, dtype: float64"
      ]
     },
     "execution_count": 43,
     "metadata": {},
     "output_type": "execute_result"
    }
   ],
   "source": [
    "# Obviously a room can't have an area of 0 so I'm removing those\n",
    "\n",
    "new_rooms = rooms[rooms[\"room_area\"] != 0][\"room_area\"]\n",
    "new_rooms.describe()[1:]"
   ]
  },
  {
   "cell_type": "markdown",
   "metadata": {},
   "source": [
    "## 4. SARIMA Forecasting"
   ]
  },
  {
   "cell_type": "code",
   "execution_count": 44,
   "metadata": {},
   "outputs": [
    {
     "data": {
      "application/vnd.microsoft.datawrangler.viewer.v0+json": {
       "columns": [
        {
         "name": "index",
         "rawType": "int64",
         "type": "integer"
        },
        {
         "name": "room_id",
         "rawType": "object",
         "type": "string"
        },
        {
         "name": "month",
         "rawType": "datetime64[ns]",
         "type": "datetime"
        },
        {
         "name": "amount",
         "rawType": "float64",
         "type": "float"
        },
        {
         "name": "unit",
         "rawType": "object",
         "type": "string"
        },
        {
         "name": "buyer_id",
         "rawType": "object",
         "type": "string"
        },
        {
         "name": "legal_entity",
         "rawType": "bool",
         "type": "boolean"
        },
        {
         "name": "service_name",
         "rawType": "object",
         "type": "string"
        },
        {
         "name": "service_category",
         "rawType": "object",
         "type": "string"
        },
        {
         "name": "year",
         "rawType": "int32",
         "type": "integer"
        }
       ],
       "conversionMethod": "pd.DataFrame",
       "ref": "a74247db-2c2d-416c-864a-d2e5f1983233",
       "rows": [
        [
         "0",
         "034e4220ff2321b",
         "2024-10-01 00:00:00",
         "156.0044",
         "kWh",
         "9103b4278cd4d36",
         "False",
         "Karštojo vandentiekio šiluma",
         "Šiluma",
         "2024"
        ],
        [
         "1",
         "8a7c29f8e37976a",
         "2023-03-01 00:00:00",
         "1.0",
         "m³",
         "8272553dc51db2a",
         "False",
         "Karštas vanduo",
         "Karštas vanduo",
         "2023"
        ],
        [
         "3",
         "d47a7abc5c4ec68",
         "2024-05-01 00:00:00",
         "-15.8835",
         "kWh",
         "e5e3772227e983d",
         "False",
         "Nepaskirstyto vandens šilumos kiekis",
         "Šiluma",
         "2024"
        ],
        [
         "4",
         "bcb1927d761f747",
         "2020-11-01 00:00:00",
         "57.3542",
         "kWh",
         "29abb8cfb442094",
         "False",
         "Šiluma",
         "Šiluma",
         "2020"
        ],
        [
         "5",
         "bee2b9a2b530c27",
         "2020-10-01 00:00:00",
         "1.0",
         "vnt",
         "1eedc57f7ac5574",
         "False",
         "K.v. skaitiklio aptarnavimas",
         "K.v. skaitiklio aptarnavimas",
         "2020"
        ]
       ],
       "shape": {
        "columns": 9,
        "rows": 5
       }
      },
      "text/html": [
       "<div>\n",
       "<style scoped>\n",
       "    .dataframe tbody tr th:only-of-type {\n",
       "        vertical-align: middle;\n",
       "    }\n",
       "\n",
       "    .dataframe tbody tr th {\n",
       "        vertical-align: top;\n",
       "    }\n",
       "\n",
       "    .dataframe thead th {\n",
       "        text-align: right;\n",
       "    }\n",
       "</style>\n",
       "<table border=\"1\" class=\"dataframe\">\n",
       "  <thead>\n",
       "    <tr style=\"text-align: right;\">\n",
       "      <th></th>\n",
       "      <th>room_id</th>\n",
       "      <th>month</th>\n",
       "      <th>amount</th>\n",
       "      <th>unit</th>\n",
       "      <th>buyer_id</th>\n",
       "      <th>legal_entity</th>\n",
       "      <th>service_name</th>\n",
       "      <th>service_category</th>\n",
       "      <th>year</th>\n",
       "    </tr>\n",
       "  </thead>\n",
       "  <tbody>\n",
       "    <tr>\n",
       "      <th>0</th>\n",
       "      <td>034e4220ff2321b</td>\n",
       "      <td>2024-10-01</td>\n",
       "      <td>156.0044</td>\n",
       "      <td>kWh</td>\n",
       "      <td>9103b4278cd4d36</td>\n",
       "      <td>False</td>\n",
       "      <td>Karštojo vandentiekio šiluma</td>\n",
       "      <td>Šiluma</td>\n",
       "      <td>2024</td>\n",
       "    </tr>\n",
       "    <tr>\n",
       "      <th>1</th>\n",
       "      <td>8a7c29f8e37976a</td>\n",
       "      <td>2023-03-01</td>\n",
       "      <td>1.0000</td>\n",
       "      <td>m³</td>\n",
       "      <td>8272553dc51db2a</td>\n",
       "      <td>False</td>\n",
       "      <td>Karštas vanduo</td>\n",
       "      <td>Karštas vanduo</td>\n",
       "      <td>2023</td>\n",
       "    </tr>\n",
       "    <tr>\n",
       "      <th>3</th>\n",
       "      <td>d47a7abc5c4ec68</td>\n",
       "      <td>2024-05-01</td>\n",
       "      <td>-15.8835</td>\n",
       "      <td>kWh</td>\n",
       "      <td>e5e3772227e983d</td>\n",
       "      <td>False</td>\n",
       "      <td>Nepaskirstyto vandens šilumos kiekis</td>\n",
       "      <td>Šiluma</td>\n",
       "      <td>2024</td>\n",
       "    </tr>\n",
       "    <tr>\n",
       "      <th>4</th>\n",
       "      <td>bcb1927d761f747</td>\n",
       "      <td>2020-11-01</td>\n",
       "      <td>57.3542</td>\n",
       "      <td>kWh</td>\n",
       "      <td>29abb8cfb442094</td>\n",
       "      <td>False</td>\n",
       "      <td>Šiluma</td>\n",
       "      <td>Šiluma</td>\n",
       "      <td>2020</td>\n",
       "    </tr>\n",
       "    <tr>\n",
       "      <th>5</th>\n",
       "      <td>bee2b9a2b530c27</td>\n",
       "      <td>2020-10-01</td>\n",
       "      <td>1.0000</td>\n",
       "      <td>vnt</td>\n",
       "      <td>1eedc57f7ac5574</td>\n",
       "      <td>False</td>\n",
       "      <td>K.v. skaitiklio aptarnavimas</td>\n",
       "      <td>K.v. skaitiklio aptarnavimas</td>\n",
       "      <td>2020</td>\n",
       "    </tr>\n",
       "  </tbody>\n",
       "</table>\n",
       "</div>"
      ],
      "text/plain": [
       "           room_id      month    amount unit         buyer_id  legal_entity  \\\n",
       "0  034e4220ff2321b 2024-10-01  156.0044  kWh  9103b4278cd4d36         False   \n",
       "1  8a7c29f8e37976a 2023-03-01    1.0000   m³  8272553dc51db2a         False   \n",
       "3  d47a7abc5c4ec68 2024-05-01  -15.8835  kWh  e5e3772227e983d         False   \n",
       "4  bcb1927d761f747 2020-11-01   57.3542  kWh  29abb8cfb442094         False   \n",
       "5  bee2b9a2b530c27 2020-10-01    1.0000  vnt  1eedc57f7ac5574         False   \n",
       "\n",
       "                           service_name              service_category  year  \n",
       "0          Karštojo vandentiekio šiluma                        Šiluma  2024  \n",
       "1                        Karštas vanduo                Karštas vanduo  2023  \n",
       "3  Nepaskirstyto vandens šilumos kiekis                        Šiluma  2024  \n",
       "4                                Šiluma                        Šiluma  2020  \n",
       "5          K.v. skaitiklio aptarnavimas  K.v. skaitiklio aptarnavimas  2020  "
      ]
     },
     "execution_count": 44,
     "metadata": {},
     "output_type": "execute_result"
    }
   ],
   "source": [
    "register.head()"
   ]
  },
  {
   "cell_type": "code",
   "execution_count": 45,
   "metadata": {},
   "outputs": [
    {
     "data": {
      "application/vnd.microsoft.datawrangler.viewer.v0+json": {
       "columns": [
        {
         "name": "month",
         "rawType": "datetime64[ns]",
         "type": "datetime"
        },
        {
         "name": "amount",
         "rawType": "float64",
         "type": "float"
        }
       ],
       "conversionMethod": "pd.DataFrame",
       "ref": "6026e5cd-d539-43db-a600-32c176f39588",
       "rows": [
        [
         "2024-06-01 00:00:00",
         "7901561.6007"
        ],
        [
         "2024-07-01 00:00:00",
         "8117238.4521"
        ],
        [
         "2024-08-01 00:00:00",
         "7841925.18238"
        ],
        [
         "2024-09-01 00:00:00",
         "8393851.671956"
        ],
        [
         "2024-10-01 00:00:00",
         "27106812.885487"
        ]
       ],
       "shape": {
        "columns": 1,
        "rows": 5
       }
      },
      "text/html": [
       "<div>\n",
       "<style scoped>\n",
       "    .dataframe tbody tr th:only-of-type {\n",
       "        vertical-align: middle;\n",
       "    }\n",
       "\n",
       "    .dataframe tbody tr th {\n",
       "        vertical-align: top;\n",
       "    }\n",
       "\n",
       "    .dataframe thead th {\n",
       "        text-align: right;\n",
       "    }\n",
       "</style>\n",
       "<table border=\"1\" class=\"dataframe\">\n",
       "  <thead>\n",
       "    <tr style=\"text-align: right;\">\n",
       "      <th></th>\n",
       "      <th>amount</th>\n",
       "    </tr>\n",
       "    <tr>\n",
       "      <th>month</th>\n",
       "      <th></th>\n",
       "    </tr>\n",
       "  </thead>\n",
       "  <tbody>\n",
       "    <tr>\n",
       "      <th>2024-06-01</th>\n",
       "      <td>7.901562e+06</td>\n",
       "    </tr>\n",
       "    <tr>\n",
       "      <th>2024-07-01</th>\n",
       "      <td>8.117238e+06</td>\n",
       "    </tr>\n",
       "    <tr>\n",
       "      <th>2024-08-01</th>\n",
       "      <td>7.841925e+06</td>\n",
       "    </tr>\n",
       "    <tr>\n",
       "      <th>2024-09-01</th>\n",
       "      <td>8.393852e+06</td>\n",
       "    </tr>\n",
       "    <tr>\n",
       "      <th>2024-10-01</th>\n",
       "      <td>2.710681e+07</td>\n",
       "    </tr>\n",
       "  </tbody>\n",
       "</table>\n",
       "</div>"
      ],
      "text/plain": [
       "                  amount\n",
       "month                   \n",
       "2024-06-01  7.901562e+06\n",
       "2024-07-01  8.117238e+06\n",
       "2024-08-01  7.841925e+06\n",
       "2024-09-01  8.393852e+06\n",
       "2024-10-01  2.710681e+07"
      ]
     },
     "execution_count": 45,
     "metadata": {},
     "output_type": "execute_result"
    }
   ],
   "source": [
    "sar_filter_df = register[register[\"service_category\"] == \"Šiluma\"]\n",
    "sarima_df = pd.DataFrame(sar_filter_df.groupby(\"month\")[\"amount\"].sum(), columns=[\"amount\"])\n",
    "sarima_df.tail()"
   ]
  },
  {
   "cell_type": "code",
   "execution_count": 46,
   "metadata": {},
   "outputs": [
    {
     "name": "stdout",
     "output_type": "stream",
     "text": [
      "ADF Statistic: -1.4331598355206348\n",
      "p-value: 0.5662797301429898\n"
     ]
    }
   ],
   "source": [
    "from statsmodels.tsa.stattools import adfuller\n",
    "\n",
    "result = adfuller(sarima_df['amount'])\n",
    "print('ADF Statistic:', result[0])\n",
    "print('p-value:', result[1])"
   ]
  },
  {
   "cell_type": "code",
   "execution_count": 47,
   "metadata": {},
   "outputs": [
    {
     "name": "stderr",
     "output_type": "stream",
     "text": [
      "z:\\projects\\python\\personal\\siluma\\.venv\\Lib\\site-packages\\statsmodels\\tsa\\base\\tsa_model.py:473: ValueWarning: No frequency information was provided, so inferred frequency MS will be used.\n",
      "  self._init_dates(dates, freq)\n",
      "z:\\projects\\python\\personal\\siluma\\.venv\\Lib\\site-packages\\statsmodels\\tsa\\base\\tsa_model.py:473: ValueWarning: No frequency information was provided, so inferred frequency MS will be used.\n",
      "  self._init_dates(dates, freq)\n",
      "z:\\projects\\python\\personal\\siluma\\.venv\\Lib\\site-packages\\statsmodels\\tsa\\statespace\\sarimax.py:1009: UserWarning: Non-invertible starting seasonal moving average Using zeros as starting parameters.\n",
      "  warn('Non-invertible starting seasonal moving average'\n"
     ]
    },
    {
     "name": "stdout",
     "output_type": "stream",
     "text": [
      "                                     SARIMAX Results                                      \n",
      "==========================================================================================\n",
      "Dep. Variable:                             amount   No. Observations:                   70\n",
      "Model:             SARIMAX(1, 1, 1)x(1, 1, 1, 12)   Log Likelihood                -968.980\n",
      "Date:                            Thu, 27 Feb 2025   AIC                           1947.959\n",
      "Time:                                    15:41:14   BIC                           1958.175\n",
      "Sample:                                01-01-2019   HQIC                          1951.929\n",
      "                                     - 10-01-2024                                         \n",
      "Covariance Type:                              opg                                         \n",
      "==============================================================================\n",
      "                 coef    std err          z      P>|z|      [0.025      0.975]\n",
      "------------------------------------------------------------------------------\n",
      "ar.L1          0.1631      0.257      0.636      0.525      -0.340       0.666\n",
      "ma.L1         -0.5572      0.301     -1.852      0.064      -1.147       0.032\n",
      "ar.S.L12      -0.4604      0.227     -2.032      0.042      -0.904      -0.016\n",
      "ma.S.L12       0.2736      0.294      0.930      0.353      -0.303       0.850\n",
      "sigma2      4.364e+13   5.32e-15   8.21e+27      0.000    4.36e+13    4.36e+13\n",
      "===================================================================================\n",
      "Ljung-Box (L1) (Q):                   2.69   Jarque-Bera (JB):                 3.87\n",
      "Prob(Q):                              0.10   Prob(JB):                         0.14\n",
      "Heteroskedasticity (H):               1.42   Skew:                             0.44\n",
      "Prob(H) (two-sided):                  0.46   Kurtosis:                         3.93\n",
      "===================================================================================\n",
      "\n",
      "Warnings:\n",
      "[1] Covariance matrix calculated using the outer product of gradients (complex-step).\n",
      "[2] Covariance matrix is singular or near-singular, with condition number 6.17e+43. Standard errors may be unstable.\n"
     ]
    }
   ],
   "source": [
    "from statsmodels.tsa.statespace.sarimax import SARIMAX\n",
    "\n",
    "# Define the model\n",
    "order = (1, 1, 1)  # Non-seasonal: AR(1), diff(1), MA(1)\n",
    "seasonal_order = (1, 1, 1, 12)  # Seasonal: AR(1), diff(1), MA(1), period=12\n",
    "model = SARIMAX(sarima_df['amount'], order=order, seasonal_order=seasonal_order, enforce_stationarity=True, enforce_invertibility=True)\n",
    "\n",
    "# Fit the model\n",
    "results = model.fit()\n",
    "print(results.summary())"
   ]
  },
  {
   "cell_type": "code",
   "execution_count": 48,
   "metadata": {},
   "outputs": [
    {
     "data": {
      "image/png": "[encoded data removed]",
      "text/plain": [
       "<Figure size 1200x800 with 4 Axes>"
      ]
     },
     "metadata": {},
     "output_type": "display_data"
    }
   ],
   "source": [
    "# Plot diagnostics\n",
    "results.plot_diagnostics(figsize=(12, 8))\n",
    "plt.show()"
   ]
  },
  {
   "cell_type": "code",
   "execution_count": 49,
   "metadata": {},
   "outputs": [
    {
     "name": "stderr",
     "output_type": "stream",
     "text": [
      "C:\\Users\\zygim\\AppData\\Local\\Temp\\ipykernel_9636\\1364037899.py:7: FutureWarning: 'M' is deprecated and will be removed in a future version, please use 'ME' instead.\n",
      "  future_dates = pd.date_range(start=sarima_df.index[-1], periods=37, freq='M')[1:]\n"
     ]
    },
    {
     "data": {
      "image/png": "[encoded data removed]",
      "text/plain": [
       "<Figure size 1000x600 with 1 Axes>"
      ]
     },
     "metadata": {},
     "output_type": "display_data"
    }
   ],
   "source": [
    "# Forecast 12 months ahead\n",
    "forecast = results.get_forecast(steps=36)\n",
    "forecast_mean = forecast.predicted_mean\n",
    "forecast_ci = forecast.conf_int()\n",
    "\n",
    "# Create future dates\n",
    "future_dates = pd.date_range(start=sarima_df.index[-1], periods=37, freq='M')[1:]\n",
    "\n",
    "# Plot\n",
    "plt.figure(figsize=(10, 6))\n",
    "plt.plot(sarima_df['amount'], label='Observed')\n",
    "plt.plot(future_dates, forecast_mean, label='Forecast', color='red')\n",
    "plt.fill_between(future_dates, forecast_ci.iloc[:, 0], forecast_ci.iloc[:, 1], color='pink', alpha=0.3)\n",
    "plt.title('Heat Consumption Forecast (SARIMA)')\n",
    "plt.xlabel('Date')\n",
    "plt.ylabel('Heat, kWh')\n",
    "plt.legend()\n",
    "plt.show()\n",
    "# Print forecast values\n",
    "forecast_df = pd.DataFrame({'Forecast': forecast_mean}, index=future_dates)\n"
   ]
  },
  {
   "cell_type": "code",
   "execution_count": 50,
   "metadata": {},
   "outputs": [
    {
     "name": "stderr",
     "output_type": "stream",
     "text": [
      "z:\\projects\\python\\personal\\siluma\\.venv\\Lib\\site-packages\\statsmodels\\tsa\\base\\tsa_model.py:473: ValueWarning: No frequency information was provided, so inferred frequency MS will be used.\n",
      "  self._init_dates(dates, freq)\n",
      "z:\\projects\\python\\personal\\siluma\\.venv\\Lib\\site-packages\\statsmodels\\tsa\\base\\tsa_model.py:473: ValueWarning: No frequency information was provided, so inferred frequency MS will be used.\n",
      "  self._init_dates(dates, freq)\n",
      "z:\\projects\\python\\personal\\siluma\\.venv\\Lib\\site-packages\\statsmodels\\tsa\\base\\tsa_model.py:473: ValueWarning: No frequency information was provided, so inferred frequency MS will be used.\n",
      "  self._init_dates(dates, freq)\n",
      "z:\\projects\\python\\personal\\siluma\\.venv\\Lib\\site-packages\\statsmodels\\tsa\\base\\tsa_model.py:473: ValueWarning: No frequency information was provided, so inferred frequency MS will be used.\n",
      "  self._init_dates(dates, freq)\n",
      "z:\\projects\\python\\personal\\siluma\\.venv\\Lib\\site-packages\\statsmodels\\tsa\\base\\tsa_model.py:473: ValueWarning: No frequency information was provided, so inferred frequency MS will be used.\n",
      "  self._init_dates(dates, freq)\n",
      "z:\\projects\\python\\personal\\siluma\\.venv\\Lib\\site-packages\\statsmodels\\tsa\\base\\tsa_model.py:473: ValueWarning: No frequency information was provided, so inferred frequency MS will be used.\n",
      "  self._init_dates(dates, freq)\n",
      "z:\\projects\\python\\personal\\siluma\\.venv\\Lib\\site-packages\\statsmodels\\tsa\\base\\tsa_model.py:473: ValueWarning: No frequency information was provided, so inferred frequency MS will be used.\n",
      "  self._init_dates(dates, freq)\n",
      "z:\\projects\\python\\personal\\siluma\\.venv\\Lib\\site-packages\\statsmodels\\tsa\\base\\tsa_model.py:473: ValueWarning: No frequency information was provided, so inferred frequency MS will be used.\n",
      "  self._init_dates(dates, freq)\n",
      "z:\\projects\\python\\personal\\siluma\\.venv\\Lib\\site-packages\\statsmodels\\tsa\\base\\tsa_model.py:473: ValueWarning: No frequency information was provided, so inferred frequency MS will be used.\n",
      "  self._init_dates(dates, freq)\n",
      "z:\\projects\\python\\personal\\siluma\\.venv\\Lib\\site-packages\\statsmodels\\tsa\\base\\tsa_model.py:473: ValueWarning: No frequency information was provided, so inferred frequency MS will be used.\n",
      "  self._init_dates(dates, freq)\n",
      "z:\\projects\\python\\personal\\siluma\\.venv\\Lib\\site-packages\\statsmodels\\tsa\\base\\tsa_model.py:473: ValueWarning: No frequency information was provided, so inferred frequency MS will be used.\n",
      "  self._init_dates(dates, freq)\n",
      "z:\\projects\\python\\personal\\siluma\\.venv\\Lib\\site-packages\\statsmodels\\tsa\\base\\tsa_model.py:473: ValueWarning: No frequency information was provided, so inferred frequency MS will be used.\n",
      "  self._init_dates(dates, freq)\n",
      "z:\\projects\\python\\personal\\siluma\\.venv\\Lib\\site-packages\\statsmodels\\tsa\\base\\tsa_model.py:473: ValueWarning: No frequency information was provided, so inferred frequency MS will be used.\n",
      "  self._init_dates(dates, freq)\n",
      "z:\\projects\\python\\personal\\siluma\\.venv\\Lib\\site-packages\\statsmodels\\tsa\\base\\tsa_model.py:473: ValueWarning: No frequency information was provided, so inferred frequency MS will be used.\n",
      "  self._init_dates(dates, freq)\n",
      "z:\\projects\\python\\personal\\siluma\\.venv\\Lib\\site-packages\\statsmodels\\tsa\\base\\tsa_model.py:473: ValueWarning: No frequency information was provided, so inferred frequency MS will be used.\n",
      "  self._init_dates(dates, freq)\n",
      "z:\\projects\\python\\personal\\siluma\\.venv\\Lib\\site-packages\\statsmodels\\tsa\\base\\tsa_model.py:473: ValueWarning: No frequency information was provided, so inferred frequency MS will be used.\n",
      "  self._init_dates(dates, freq)\n",
      "z:\\projects\\python\\personal\\siluma\\.venv\\Lib\\site-packages\\statsmodels\\tsa\\base\\tsa_model.py:473: ValueWarning: No frequency information was provided, so inferred frequency MS will be used.\n",
      "  self._init_dates(dates, freq)\n",
      "z:\\projects\\python\\personal\\siluma\\.venv\\Lib\\site-packages\\statsmodels\\tsa\\base\\tsa_model.py:473: ValueWarning: No frequency information was provided, so inferred frequency MS will be used.\n",
      "  self._init_dates(dates, freq)\n",
      "z:\\projects\\python\\personal\\siluma\\.venv\\Lib\\site-packages\\statsmodels\\tsa\\statespace\\sarimax.py:978: UserWarning: Non-invertible starting MA parameters found. Using zeros as starting parameters.\n",
      "  warn('Non-invertible starting MA parameters found.'\n",
      "z:\\projects\\python\\personal\\siluma\\.venv\\Lib\\site-packages\\statsmodels\\tsa\\base\\tsa_model.py:473: ValueWarning: No frequency information was provided, so inferred frequency MS will be used.\n",
      "  self._init_dates(dates, freq)\n",
      "z:\\projects\\python\\personal\\siluma\\.venv\\Lib\\site-packages\\statsmodels\\tsa\\base\\tsa_model.py:473: ValueWarning: No frequency information was provided, so inferred frequency MS will be used.\n",
      "  self._init_dates(dates, freq)\n",
      "z:\\projects\\python\\personal\\siluma\\.venv\\Lib\\site-packages\\statsmodels\\tsa\\statespace\\sarimax.py:978: UserWarning: Non-invertible starting MA parameters found. Using zeros as starting parameters.\n",
      "  warn('Non-invertible starting MA parameters found.'\n",
      "z:\\projects\\python\\personal\\siluma\\.venv\\Lib\\site-packages\\statsmodels\\tsa\\base\\tsa_model.py:473: ValueWarning: No frequency information was provided, so inferred frequency MS will be used.\n",
      "  self._init_dates(dates, freq)\n",
      "z:\\projects\\python\\personal\\siluma\\.venv\\Lib\\site-packages\\statsmodels\\tsa\\base\\tsa_model.py:473: ValueWarning: No frequency information was provided, so inferred frequency MS will be used.\n",
      "  self._init_dates(dates, freq)\n",
      "z:\\projects\\python\\personal\\siluma\\.venv\\Lib\\site-packages\\statsmodels\\tsa\\base\\tsa_model.py:473: ValueWarning: No frequency information was provided, so inferred frequency MS will be used.\n",
      "  self._init_dates(dates, freq)\n",
      "z:\\projects\\python\\personal\\siluma\\.venv\\Lib\\site-packages\\statsmodels\\tsa\\base\\tsa_model.py:473: ValueWarning: No frequency information was provided, so inferred frequency MS will be used.\n",
      "  self._init_dates(dates, freq)\n",
      "z:\\projects\\python\\personal\\siluma\\.venv\\Lib\\site-packages\\statsmodels\\tsa\\base\\tsa_model.py:473: ValueWarning: No frequency information was provided, so inferred frequency MS will be used.\n",
      "  self._init_dates(dates, freq)\n",
      "z:\\projects\\python\\personal\\siluma\\.venv\\Lib\\site-packages\\statsmodels\\tsa\\base\\tsa_model.py:473: ValueWarning: No frequency information was provided, so inferred frequency MS will be used.\n",
      "  self._init_dates(dates, freq)\n",
      "z:\\projects\\python\\personal\\siluma\\.venv\\Lib\\site-packages\\statsmodels\\tsa\\statespace\\sarimax.py:978: UserWarning: Non-invertible starting MA parameters found. Using zeros as starting parameters.\n",
      "  warn('Non-invertible starting MA parameters found.'\n",
      "z:\\projects\\python\\personal\\siluma\\.venv\\Lib\\site-packages\\statsmodels\\tsa\\base\\tsa_model.py:473: ValueWarning: No frequency information was provided, so inferred frequency MS will be used.\n",
      "  self._init_dates(dates, freq)\n",
      "z:\\projects\\python\\personal\\siluma\\.venv\\Lib\\site-packages\\statsmodels\\tsa\\base\\tsa_model.py:473: ValueWarning: No frequency information was provided, so inferred frequency MS will be used.\n",
      "  self._init_dates(dates, freq)\n",
      "z:\\projects\\python\\personal\\siluma\\.venv\\Lib\\site-packages\\statsmodels\\tsa\\statespace\\sarimax.py:978: UserWarning: Non-invertible starting MA parameters found. Using zeros as starting parameters.\n",
      "  warn('Non-invertible starting MA parameters found.'\n",
      "z:\\projects\\python\\personal\\siluma\\.venv\\Lib\\site-packages\\statsmodels\\tsa\\base\\tsa_model.py:473: ValueWarning: No frequency information was provided, so inferred frequency MS will be used.\n",
      "  self._init_dates(dates, freq)\n",
      "z:\\projects\\python\\personal\\siluma\\.venv\\Lib\\site-packages\\statsmodels\\tsa\\base\\tsa_model.py:473: ValueWarning: No frequency information was provided, so inferred frequency MS will be used.\n",
      "  self._init_dates(dates, freq)\n",
      "z:\\projects\\python\\personal\\siluma\\.venv\\Lib\\site-packages\\statsmodels\\tsa\\base\\tsa_model.py:473: ValueWarning: No frequency information was provided, so inferred frequency MS will be used.\n",
      "  self._init_dates(dates, freq)\n",
      "z:\\projects\\python\\personal\\siluma\\.venv\\Lib\\site-packages\\statsmodels\\tsa\\base\\tsa_model.py:473: ValueWarning: No frequency information was provided, so inferred frequency MS will be used.\n",
      "  self._init_dates(dates, freq)\n",
      "z:\\projects\\python\\personal\\siluma\\.venv\\Lib\\site-packages\\statsmodels\\tsa\\base\\tsa_model.py:473: ValueWarning: No frequency information was provided, so inferred frequency MS will be used.\n",
      "  self._init_dates(dates, freq)\n",
      "z:\\projects\\python\\personal\\siluma\\.venv\\Lib\\site-packages\\statsmodels\\tsa\\base\\tsa_model.py:473: ValueWarning: No frequency information was provided, so inferred frequency MS will be used.\n",
      "  self._init_dates(dates, freq)\n",
      "z:\\projects\\python\\personal\\siluma\\.venv\\Lib\\site-packages\\statsmodels\\tsa\\base\\tsa_model.py:473: ValueWarning: No frequency information was provided, so inferred frequency MS will be used.\n",
      "  self._init_dates(dates, freq)\n",
      "z:\\projects\\python\\personal\\siluma\\.venv\\Lib\\site-packages\\statsmodels\\tsa\\base\\tsa_model.py:473: ValueWarning: No frequency information was provided, so inferred frequency MS will be used.\n",
      "  self._init_dates(dates, freq)\n",
      "z:\\projects\\python\\personal\\siluma\\.venv\\Lib\\site-packages\\statsmodels\\tsa\\base\\tsa_model.py:473: ValueWarning: No frequency information was provided, so inferred frequency MS will be used.\n",
      "  self._init_dates(dates, freq)\n",
      "z:\\projects\\python\\personal\\siluma\\.venv\\Lib\\site-packages\\statsmodels\\tsa\\base\\tsa_model.py:473: ValueWarning: No frequency information was provided, so inferred frequency MS will be used.\n",
      "  self._init_dates(dates, freq)\n",
      "z:\\projects\\python\\personal\\siluma\\.venv\\Lib\\site-packages\\statsmodels\\tsa\\base\\tsa_model.py:473: ValueWarning: No frequency information was provided, so inferred frequency MS will be used.\n",
      "  self._init_dates(dates, freq)\n",
      "z:\\projects\\python\\personal\\siluma\\.venv\\Lib\\site-packages\\statsmodels\\tsa\\base\\tsa_model.py:473: ValueWarning: No frequency information was provided, so inferred frequency MS will be used.\n",
      "  self._init_dates(dates, freq)\n",
      "z:\\projects\\python\\personal\\siluma\\.venv\\Lib\\site-packages\\statsmodels\\tsa\\statespace\\sarimax.py:1009: UserWarning: Non-invertible starting seasonal moving average Using zeros as starting parameters.\n",
      "  warn('Non-invertible starting seasonal moving average'\n",
      "z:\\projects\\python\\personal\\siluma\\.venv\\Lib\\site-packages\\statsmodels\\tsa\\base\\tsa_model.py:473: ValueWarning: No frequency information was provided, so inferred frequency MS will be used.\n",
      "  self._init_dates(dates, freq)\n",
      "z:\\projects\\python\\personal\\siluma\\.venv\\Lib\\site-packages\\statsmodels\\tsa\\base\\tsa_model.py:473: ValueWarning: No frequency information was provided, so inferred frequency MS will be used.\n",
      "  self._init_dates(dates, freq)\n",
      "z:\\projects\\python\\personal\\siluma\\.venv\\Lib\\site-packages\\statsmodels\\tsa\\base\\tsa_model.py:473: ValueWarning: No frequency information was provided, so inferred frequency MS will be used.\n",
      "  self._init_dates(dates, freq)\n",
      "z:\\projects\\python\\personal\\siluma\\.venv\\Lib\\site-packages\\statsmodels\\tsa\\base\\tsa_model.py:473: ValueWarning: No frequency information was provided, so inferred frequency MS will be used.\n",
      "  self._init_dates(dates, freq)\n",
      "z:\\projects\\python\\personal\\siluma\\.venv\\Lib\\site-packages\\statsmodels\\tsa\\base\\tsa_model.py:473: ValueWarning: No frequency information was provided, so inferred frequency MS will be used.\n",
      "  self._init_dates(dates, freq)\n",
      "z:\\projects\\python\\personal\\siluma\\.venv\\Lib\\site-packages\\statsmodels\\tsa\\base\\tsa_model.py:473: ValueWarning: No frequency information was provided, so inferred frequency MS will be used.\n",
      "  self._init_dates(dates, freq)\n",
      "z:\\projects\\python\\personal\\siluma\\.venv\\Lib\\site-packages\\statsmodels\\tsa\\base\\tsa_model.py:473: ValueWarning: No frequency information was provided, so inferred frequency MS will be used.\n",
      "  self._init_dates(dates, freq)\n",
      "z:\\projects\\python\\personal\\siluma\\.venv\\Lib\\site-packages\\statsmodels\\tsa\\base\\tsa_model.py:473: ValueWarning: No frequency information was provided, so inferred frequency MS will be used.\n",
      "  self._init_dates(dates, freq)\n",
      "z:\\projects\\python\\personal\\siluma\\.venv\\Lib\\site-packages\\statsmodels\\tsa\\statespace\\sarimax.py:1009: UserWarning: Non-invertible starting seasonal moving average Using zeros as starting parameters.\n",
      "  warn('Non-invertible starting seasonal moving average'\n",
      "z:\\projects\\python\\personal\\siluma\\.venv\\Lib\\site-packages\\statsmodels\\tsa\\base\\tsa_model.py:473: ValueWarning: No frequency information was provided, so inferred frequency MS will be used.\n",
      "  self._init_dates(dates, freq)\n",
      "z:\\projects\\python\\personal\\siluma\\.venv\\Lib\\site-packages\\statsmodels\\tsa\\base\\tsa_model.py:473: ValueWarning: No frequency information was provided, so inferred frequency MS will be used.\n",
      "  self._init_dates(dates, freq)\n",
      "z:\\projects\\python\\personal\\siluma\\.venv\\Lib\\site-packages\\statsmodels\\tsa\\base\\tsa_model.py:473: ValueWarning: No frequency information was provided, so inferred frequency MS will be used.\n",
      "  self._init_dates(dates, freq)\n",
      "z:\\projects\\python\\personal\\siluma\\.venv\\Lib\\site-packages\\statsmodels\\tsa\\base\\tsa_model.py:473: ValueWarning: No frequency information was provided, so inferred frequency MS will be used.\n",
      "  self._init_dates(dates, freq)\n",
      "z:\\projects\\python\\personal\\siluma\\.venv\\Lib\\site-packages\\statsmodels\\tsa\\base\\tsa_model.py:473: ValueWarning: No frequency information was provided, so inferred frequency MS will be used.\n",
      "  self._init_dates(dates, freq)\n",
      "z:\\projects\\python\\personal\\siluma\\.venv\\Lib\\site-packages\\statsmodels\\tsa\\base\\tsa_model.py:473: ValueWarning: No frequency information was provided, so inferred frequency MS will be used.\n",
      "  self._init_dates(dates, freq)\n",
      "z:\\projects\\python\\personal\\siluma\\.venv\\Lib\\site-packages\\statsmodels\\tsa\\base\\tsa_model.py:473: ValueWarning: No frequency information was provided, so inferred frequency MS will be used.\n",
      "  self._init_dates(dates, freq)\n",
      "z:\\projects\\python\\personal\\siluma\\.venv\\Lib\\site-packages\\statsmodels\\tsa\\base\\tsa_model.py:473: ValueWarning: No frequency information was provided, so inferred frequency MS will be used.\n",
      "  self._init_dates(dates, freq)\n",
      "z:\\projects\\python\\personal\\siluma\\.venv\\Lib\\site-packages\\statsmodels\\tsa\\statespace\\sarimax.py:1009: UserWarning: Non-invertible starting seasonal moving average Using zeros as starting parameters.\n",
      "  warn('Non-invertible starting seasonal moving average'\n",
      "z:\\projects\\python\\personal\\siluma\\.venv\\Lib\\site-packages\\statsmodels\\tsa\\base\\tsa_model.py:473: ValueWarning: No frequency information was provided, so inferred frequency MS will be used.\n",
      "  self._init_dates(dates, freq)\n",
      "z:\\projects\\python\\personal\\siluma\\.venv\\Lib\\site-packages\\statsmodels\\tsa\\base\\tsa_model.py:473: ValueWarning: No frequency information was provided, so inferred frequency MS will be used.\n",
      "  self._init_dates(dates, freq)\n",
      "z:\\projects\\python\\personal\\siluma\\.venv\\Lib\\site-packages\\statsmodels\\tsa\\base\\tsa_model.py:473: ValueWarning: No frequency information was provided, so inferred frequency MS will be used.\n",
      "  self._init_dates(dates, freq)\n",
      "z:\\projects\\python\\personal\\siluma\\.venv\\Lib\\site-packages\\statsmodels\\tsa\\base\\tsa_model.py:473: ValueWarning: No frequency information was provided, so inferred frequency MS will be used.\n",
      "  self._init_dates(dates, freq)\n",
      "z:\\projects\\python\\personal\\siluma\\.venv\\Lib\\site-packages\\statsmodels\\tsa\\base\\tsa_model.py:473: ValueWarning: No frequency information was provided, so inferred frequency MS will be used.\n",
      "  self._init_dates(dates, freq)\n",
      "z:\\projects\\python\\personal\\siluma\\.venv\\Lib\\site-packages\\statsmodels\\tsa\\base\\tsa_model.py:473: ValueWarning: No frequency information was provided, so inferred frequency MS will be used.\n",
      "  self._init_dates(dates, freq)\n",
      "z:\\projects\\python\\personal\\siluma\\.venv\\Lib\\site-packages\\statsmodels\\tsa\\base\\tsa_model.py:473: ValueWarning: No frequency information was provided, so inferred frequency MS will be used.\n",
      "  self._init_dates(dates, freq)\n",
      "z:\\projects\\python\\personal\\siluma\\.venv\\Lib\\site-packages\\statsmodels\\tsa\\base\\tsa_model.py:473: ValueWarning: No frequency information was provided, so inferred frequency MS will be used.\n",
      "  self._init_dates(dates, freq)\n",
      "z:\\projects\\python\\personal\\siluma\\.venv\\Lib\\site-packages\\statsmodels\\tsa\\statespace\\sarimax.py:1009: UserWarning: Non-invertible starting seasonal moving average Using zeros as starting parameters.\n",
      "  warn('Non-invertible starting seasonal moving average'\n",
      "z:\\projects\\python\\personal\\siluma\\.venv\\Lib\\site-packages\\statsmodels\\tsa\\base\\tsa_model.py:473: ValueWarning: No frequency information was provided, so inferred frequency MS will be used.\n",
      "  self._init_dates(dates, freq)\n",
      "z:\\projects\\python\\personal\\siluma\\.venv\\Lib\\site-packages\\statsmodels\\tsa\\base\\tsa_model.py:473: ValueWarning: No frequency information was provided, so inferred frequency MS will be used.\n",
      "  self._init_dates(dates, freq)\n",
      "z:\\projects\\python\\personal\\siluma\\.venv\\Lib\\site-packages\\statsmodels\\tsa\\base\\tsa_model.py:473: ValueWarning: No frequency information was provided, so inferred frequency MS will be used.\n",
      "  self._init_dates(dates, freq)\n",
      "z:\\projects\\python\\personal\\siluma\\.venv\\Lib\\site-packages\\statsmodels\\tsa\\base\\tsa_model.py:473: ValueWarning: No frequency information was provided, so inferred frequency MS will be used.\n",
      "  self._init_dates(dates, freq)\n",
      "z:\\projects\\python\\personal\\siluma\\.venv\\Lib\\site-packages\\statsmodels\\tsa\\base\\tsa_model.py:473: ValueWarning: No frequency information was provided, so inferred frequency MS will be used.\n",
      "  self._init_dates(dates, freq)\n",
      "z:\\projects\\python\\personal\\siluma\\.venv\\Lib\\site-packages\\statsmodels\\tsa\\base\\tsa_model.py:473: ValueWarning: No frequency information was provided, so inferred frequency MS will be used.\n",
      "  self._init_dates(dates, freq)\n",
      "z:\\projects\\python\\personal\\siluma\\.venv\\Lib\\site-packages\\statsmodels\\tsa\\base\\tsa_model.py:473: ValueWarning: No frequency information was provided, so inferred frequency MS will be used.\n",
      "  self._init_dates(dates, freq)\n",
      "z:\\projects\\python\\personal\\siluma\\.venv\\Lib\\site-packages\\statsmodels\\tsa\\base\\tsa_model.py:473: ValueWarning: No frequency information was provided, so inferred frequency MS will be used.\n",
      "  self._init_dates(dates, freq)\n",
      "z:\\projects\\python\\personal\\siluma\\.venv\\Lib\\site-packages\\statsmodels\\tsa\\base\\tsa_model.py:473: ValueWarning: No frequency information was provided, so inferred frequency MS will be used.\n",
      "  self._init_dates(dates, freq)\n",
      "z:\\projects\\python\\personal\\siluma\\.venv\\Lib\\site-packages\\statsmodels\\tsa\\base\\tsa_model.py:473: ValueWarning: No frequency information was provided, so inferred frequency MS will be used.\n",
      "  self._init_dates(dates, freq)\n",
      "z:\\projects\\python\\personal\\siluma\\.venv\\Lib\\site-packages\\statsmodels\\tsa\\base\\tsa_model.py:473: ValueWarning: No frequency information was provided, so inferred frequency MS will be used.\n",
      "  self._init_dates(dates, freq)\n",
      "z:\\projects\\python\\personal\\siluma\\.venv\\Lib\\site-packages\\statsmodels\\tsa\\base\\tsa_model.py:473: ValueWarning: No frequency information was provided, so inferred frequency MS will be used.\n",
      "  self._init_dates(dates, freq)\n",
      "z:\\projects\\python\\personal\\siluma\\.venv\\Lib\\site-packages\\statsmodels\\tsa\\base\\tsa_model.py:473: ValueWarning: No frequency information was provided, so inferred frequency MS will be used.\n",
      "  self._init_dates(dates, freq)\n",
      "z:\\projects\\python\\personal\\siluma\\.venv\\Lib\\site-packages\\statsmodels\\tsa\\base\\tsa_model.py:473: ValueWarning: No frequency information was provided, so inferred frequency MS will be used.\n",
      "  self._init_dates(dates, freq)\n",
      "z:\\projects\\python\\personal\\siluma\\.venv\\Lib\\site-packages\\statsmodels\\tsa\\base\\tsa_model.py:473: ValueWarning: No frequency information was provided, so inferred frequency MS will be used.\n",
      "  self._init_dates(dates, freq)\n",
      "z:\\projects\\python\\personal\\siluma\\.venv\\Lib\\site-packages\\statsmodels\\tsa\\base\\tsa_model.py:473: ValueWarning: No frequency information was provided, so inferred frequency MS will be used.\n",
      "  self._init_dates(dates, freq)\n",
      "z:\\projects\\python\\personal\\siluma\\.venv\\Lib\\site-packages\\statsmodels\\tsa\\base\\tsa_model.py:473: ValueWarning: No frequency information was provided, so inferred frequency MS will be used.\n",
      "  self._init_dates(dates, freq)\n",
      "z:\\projects\\python\\personal\\siluma\\.venv\\Lib\\site-packages\\statsmodels\\tsa\\base\\tsa_model.py:473: ValueWarning: No frequency information was provided, so inferred frequency MS will be used.\n",
      "  self._init_dates(dates, freq)\n",
      "z:\\projects\\python\\personal\\siluma\\.venv\\Lib\\site-packages\\statsmodels\\tsa\\base\\tsa_model.py:473: ValueWarning: No frequency information was provided, so inferred frequency MS will be used.\n",
      "  self._init_dates(dates, freq)\n",
      "z:\\projects\\python\\personal\\siluma\\.venv\\Lib\\site-packages\\statsmodels\\tsa\\base\\tsa_model.py:473: ValueWarning: No frequency information was provided, so inferred frequency MS will be used.\n",
      "  self._init_dates(dates, freq)\n",
      "z:\\projects\\python\\personal\\siluma\\.venv\\Lib\\site-packages\\statsmodels\\tsa\\base\\tsa_model.py:473: ValueWarning: No frequency information was provided, so inferred frequency MS will be used.\n",
      "  self._init_dates(dates, freq)\n",
      "z:\\projects\\python\\personal\\siluma\\.venv\\Lib\\site-packages\\statsmodels\\tsa\\base\\tsa_model.py:473: ValueWarning: No frequency information was provided, so inferred frequency MS will be used.\n",
      "  self._init_dates(dates, freq)\n",
      "z:\\projects\\python\\personal\\siluma\\.venv\\Lib\\site-packages\\statsmodels\\tsa\\base\\tsa_model.py:473: ValueWarning: No frequency information was provided, so inferred frequency MS will be used.\n",
      "  self._init_dates(dates, freq)\n",
      "z:\\projects\\python\\personal\\siluma\\.venv\\Lib\\site-packages\\statsmodels\\tsa\\base\\tsa_model.py:473: ValueWarning: No frequency information was provided, so inferred frequency MS will be used.\n",
      "  self._init_dates(dates, freq)\n",
      "z:\\projects\\python\\personal\\siluma\\.venv\\Lib\\site-packages\\statsmodels\\tsa\\base\\tsa_model.py:473: ValueWarning: No frequency information was provided, so inferred frequency MS will be used.\n",
      "  self._init_dates(dates, freq)\n",
      "z:\\projects\\python\\personal\\siluma\\.venv\\Lib\\site-packages\\statsmodels\\tsa\\base\\tsa_model.py:473: ValueWarning: No frequency information was provided, so inferred frequency MS will be used.\n",
      "  self._init_dates(dates, freq)\n",
      "z:\\projects\\python\\personal\\siluma\\.venv\\Lib\\site-packages\\statsmodels\\tsa\\base\\tsa_model.py:473: ValueWarning: No frequency information was provided, so inferred frequency MS will be used.\n",
      "  self._init_dates(dates, freq)\n",
      "z:\\projects\\python\\personal\\siluma\\.venv\\Lib\\site-packages\\statsmodels\\tsa\\base\\tsa_model.py:473: ValueWarning: No frequency information was provided, so inferred frequency MS will be used.\n",
      "  self._init_dates(dates, freq)\n",
      "z:\\projects\\python\\personal\\siluma\\.venv\\Lib\\site-packages\\statsmodels\\tsa\\base\\tsa_model.py:473: ValueWarning: No frequency information was provided, so inferred frequency MS will be used.\n",
      "  self._init_dates(dates, freq)\n",
      "z:\\projects\\python\\personal\\siluma\\.venv\\Lib\\site-packages\\statsmodels\\tsa\\base\\tsa_model.py:473: ValueWarning: No frequency information was provided, so inferred frequency MS will be used.\n",
      "  self._init_dates(dates, freq)\n",
      "z:\\projects\\python\\personal\\siluma\\.venv\\Lib\\site-packages\\statsmodels\\tsa\\base\\tsa_model.py:473: ValueWarning: No frequency information was provided, so inferred frequency MS will be used.\n",
      "  self._init_dates(dates, freq)\n",
      "z:\\projects\\python\\personal\\siluma\\.venv\\Lib\\site-packages\\statsmodels\\tsa\\base\\tsa_model.py:473: ValueWarning: No frequency information was provided, so inferred frequency MS will be used.\n",
      "  self._init_dates(dates, freq)\n",
      "z:\\projects\\python\\personal\\siluma\\.venv\\Lib\\site-packages\\statsmodels\\tsa\\base\\tsa_model.py:473: ValueWarning: No frequency information was provided, so inferred frequency MS will be used.\n",
      "  self._init_dates(dates, freq)\n",
      "z:\\projects\\python\\personal\\siluma\\.venv\\Lib\\site-packages\\statsmodels\\tsa\\base\\tsa_model.py:473: ValueWarning: No frequency information was provided, so inferred frequency MS will be used.\n",
      "  self._init_dates(dates, freq)\n",
      "z:\\projects\\python\\personal\\siluma\\.venv\\Lib\\site-packages\\statsmodels\\tsa\\base\\tsa_model.py:473: ValueWarning: No frequency information was provided, so inferred frequency MS will be used.\n",
      "  self._init_dates(dates, freq)\n",
      "z:\\projects\\python\\personal\\siluma\\.venv\\Lib\\site-packages\\statsmodels\\tsa\\base\\tsa_model.py:473: ValueWarning: No frequency information was provided, so inferred frequency MS will be used.\n",
      "  self._init_dates(dates, freq)\n",
      "z:\\projects\\python\\personal\\siluma\\.venv\\Lib\\site-packages\\statsmodels\\tsa\\base\\tsa_model.py:473: ValueWarning: No frequency information was provided, so inferred frequency MS will be used.\n",
      "  self._init_dates(dates, freq)\n",
      "z:\\projects\\python\\personal\\siluma\\.venv\\Lib\\site-packages\\statsmodels\\tsa\\base\\tsa_model.py:473: ValueWarning: No frequency information was provided, so inferred frequency MS will be used.\n",
      "  self._init_dates(dates, freq)\n",
      "z:\\projects\\python\\personal\\siluma\\.venv\\Lib\\site-packages\\statsmodels\\tsa\\base\\tsa_model.py:473: ValueWarning: No frequency information was provided, so inferred frequency MS will be used.\n",
      "  self._init_dates(dates, freq)\n",
      "z:\\projects\\python\\personal\\siluma\\.venv\\Lib\\site-packages\\statsmodels\\tsa\\base\\tsa_model.py:473: ValueWarning: No frequency information was provided, so inferred frequency MS will be used.\n",
      "  self._init_dates(dates, freq)\n",
      "z:\\projects\\python\\personal\\siluma\\.venv\\Lib\\site-packages\\statsmodels\\tsa\\statespace\\sarimax.py:1009: UserWarning: Non-invertible starting seasonal moving average Using zeros as starting parameters.\n",
      "  warn('Non-invertible starting seasonal moving average'\n",
      "z:\\projects\\python\\personal\\siluma\\.venv\\Lib\\site-packages\\statsmodels\\tsa\\base\\tsa_model.py:473: ValueWarning: No frequency information was provided, so inferred frequency MS will be used.\n",
      "  self._init_dates(dates, freq)\n",
      "z:\\projects\\python\\personal\\siluma\\.venv\\Lib\\site-packages\\statsmodels\\tsa\\base\\tsa_model.py:473: ValueWarning: No frequency information was provided, so inferred frequency MS will be used.\n",
      "  self._init_dates(dates, freq)\n",
      "z:\\projects\\python\\personal\\siluma\\.venv\\Lib\\site-packages\\statsmodels\\tsa\\base\\tsa_model.py:473: ValueWarning: No frequency information was provided, so inferred frequency MS will be used.\n",
      "  self._init_dates(dates, freq)\n",
      "z:\\projects\\python\\personal\\siluma\\.venv\\Lib\\site-packages\\statsmodels\\tsa\\base\\tsa_model.py:473: ValueWarning: No frequency information was provided, so inferred frequency MS will be used.\n",
      "  self._init_dates(dates, freq)\n",
      "z:\\projects\\python\\personal\\siluma\\.venv\\Lib\\site-packages\\statsmodels\\tsa\\base\\tsa_model.py:473: ValueWarning: No frequency information was provided, so inferred frequency MS will be used.\n",
      "  self._init_dates(dates, freq)\n",
      "z:\\projects\\python\\personal\\siluma\\.venv\\Lib\\site-packages\\statsmodels\\tsa\\base\\tsa_model.py:473: ValueWarning: No frequency information was provided, so inferred frequency MS will be used.\n",
      "  self._init_dates(dates, freq)\n",
      "z:\\projects\\python\\personal\\siluma\\.venv\\Lib\\site-packages\\statsmodels\\tsa\\base\\tsa_model.py:473: ValueWarning: No frequency information was provided, so inferred frequency MS will be used.\n",
      "  self._init_dates(dates, freq)\n",
      "z:\\projects\\python\\personal\\siluma\\.venv\\Lib\\site-packages\\statsmodels\\tsa\\base\\tsa_model.py:473: ValueWarning: No frequency information was provided, so inferred frequency MS will be used.\n",
      "  self._init_dates(dates, freq)\n",
      "z:\\projects\\python\\personal\\siluma\\.venv\\Lib\\site-packages\\statsmodels\\tsa\\statespace\\sarimax.py:1009: UserWarning: Non-invertible starting seasonal moving average Using zeros as starting parameters.\n",
      "  warn('Non-invertible starting seasonal moving average'\n",
      "z:\\projects\\python\\personal\\siluma\\.venv\\Lib\\site-packages\\statsmodels\\tsa\\base\\tsa_model.py:473: ValueWarning: No frequency information was provided, so inferred frequency MS will be used.\n",
      "  self._init_dates(dates, freq)\n",
      "z:\\projects\\python\\personal\\siluma\\.venv\\Lib\\site-packages\\statsmodels\\tsa\\base\\tsa_model.py:473: ValueWarning: No frequency information was provided, so inferred frequency MS will be used.\n",
      "  self._init_dates(dates, freq)\n",
      "z:\\projects\\python\\personal\\siluma\\.venv\\Lib\\site-packages\\statsmodels\\tsa\\base\\tsa_model.py:473: ValueWarning: No frequency information was provided, so inferred frequency MS will be used.\n",
      "  self._init_dates(dates, freq)\n",
      "z:\\projects\\python\\personal\\siluma\\.venv\\Lib\\site-packages\\statsmodels\\tsa\\base\\tsa_model.py:473: ValueWarning: No frequency information was provided, so inferred frequency MS will be used.\n",
      "  self._init_dates(dates, freq)\n",
      "z:\\projects\\python\\personal\\siluma\\.venv\\Lib\\site-packages\\statsmodels\\tsa\\base\\tsa_model.py:473: ValueWarning: No frequency information was provided, so inferred frequency MS will be used.\n",
      "  self._init_dates(dates, freq)\n",
      "z:\\projects\\python\\personal\\siluma\\.venv\\Lib\\site-packages\\statsmodels\\tsa\\base\\tsa_model.py:473: ValueWarning: No frequency information was provided, so inferred frequency MS will be used.\n",
      "  self._init_dates(dates, freq)\n",
      "z:\\projects\\python\\personal\\siluma\\.venv\\Lib\\site-packages\\statsmodels\\tsa\\base\\tsa_model.py:473: ValueWarning: No frequency information was provided, so inferred frequency MS will be used.\n",
      "  self._init_dates(dates, freq)\n",
      "z:\\projects\\python\\personal\\siluma\\.venv\\Lib\\site-packages\\statsmodels\\tsa\\base\\tsa_model.py:473: ValueWarning: No frequency information was provided, so inferred frequency MS will be used.\n",
      "  self._init_dates(dates, freq)\n",
      "z:\\projects\\python\\personal\\siluma\\.venv\\Lib\\site-packages\\statsmodels\\tsa\\statespace\\sarimax.py:1009: UserWarning: Non-invertible starting seasonal moving average Using zeros as starting parameters.\n",
      "  warn('Non-invertible starting seasonal moving average'\n",
      "z:\\projects\\python\\personal\\siluma\\.venv\\Lib\\site-packages\\statsmodels\\tsa\\base\\tsa_model.py:473: ValueWarning: No frequency information was provided, so inferred frequency MS will be used.\n",
      "  self._init_dates(dates, freq)\n",
      "z:\\projects\\python\\personal\\siluma\\.venv\\Lib\\site-packages\\statsmodels\\tsa\\base\\tsa_model.py:473: ValueWarning: No frequency information was provided, so inferred frequency MS will be used.\n",
      "  self._init_dates(dates, freq)\n",
      "z:\\projects\\python\\personal\\siluma\\.venv\\Lib\\site-packages\\statsmodels\\tsa\\base\\tsa_model.py:473: ValueWarning: No frequency information was provided, so inferred frequency MS will be used.\n",
      "  self._init_dates(dates, freq)\n",
      "z:\\projects\\python\\personal\\siluma\\.venv\\Lib\\site-packages\\statsmodels\\tsa\\base\\tsa_model.py:473: ValueWarning: No frequency information was provided, so inferred frequency MS will be used.\n",
      "  self._init_dates(dates, freq)\n",
      "z:\\projects\\python\\personal\\siluma\\.venv\\Lib\\site-packages\\statsmodels\\tsa\\base\\tsa_model.py:473: ValueWarning: No frequency information was provided, so inferred frequency MS will be used.\n",
      "  self._init_dates(dates, freq)\n",
      "z:\\projects\\python\\personal\\siluma\\.venv\\Lib\\site-packages\\statsmodels\\tsa\\base\\tsa_model.py:473: ValueWarning: No frequency information was provided, so inferred frequency MS will be used.\n",
      "  self._init_dates(dates, freq)\n",
      "z:\\projects\\python\\personal\\siluma\\.venv\\Lib\\site-packages\\statsmodels\\tsa\\base\\tsa_model.py:473: ValueWarning: No frequency information was provided, so inferred frequency MS will be used.\n",
      "  self._init_dates(dates, freq)\n",
      "z:\\projects\\python\\personal\\siluma\\.venv\\Lib\\site-packages\\statsmodels\\tsa\\base\\tsa_model.py:473: ValueWarning: No frequency information was provided, so inferred frequency MS will be used.\n",
      "  self._init_dates(dates, freq)\n",
      "z:\\projects\\python\\personal\\siluma\\.venv\\Lib\\site-packages\\statsmodels\\tsa\\statespace\\sarimax.py:1009: UserWarning: Non-invertible starting seasonal moving average Using zeros as starting parameters.\n",
      "  warn('Non-invertible starting seasonal moving average'\n"
     ]
    },
    {
     "name": "stdout",
     "output_type": "stream",
     "text": [
      "Best AIC: 1945.5358025988319, Best Params: ((0, 1, 1), (1, 1, 0, 12))\n"
     ]
    }
   ],
   "source": [
    "import itertools\n",
    "\n",
    "p = d = q = P = D = Q = [0, 1]\n",
    "s = 12\n",
    "pdq = list(itertools.product(p, d, q))\n",
    "seasonal_pdq = [(x[0], x[1], x[2], s) for x in pdq]\n",
    "\n",
    "best_aic = float('inf')\n",
    "best_params = None\n",
    "\n",
    "for param in pdq:\n",
    "    for param_seasonal in seasonal_pdq:\n",
    "        try:\n",
    "            mod = SARIMAX(sarima_df['amount'], order=param, seasonal_order=param_seasonal)\n",
    "            res = mod.fit(disp=False)\n",
    "            if res.aic < best_aic:\n",
    "                best_aic = res.aic\n",
    "                best_params = (param, param_seasonal)\n",
    "        except:\n",
    "            continue\n",
    "\n",
    "print(f'Best AIC: {best_aic}, Best Params: {best_params}')"
   ]
  }
 ],
 "metadata": {
  "kernelspec": {
   "display_name": ".venv",
   "language": "python",
   "name": "python3"
  },
  "language_info": {
   "codemirror_mode": {
    "name": "ipython",
    "version": 3
   },
   "file_extension": ".py",
   "mimetype": "text/x-python",
   "name": "python",
   "nbconvert_exporter": "python",
   "pygments_lexer": "ipython3",
   "version": "3.12.6"
  }
 },
 "nbformat": 4,
 "nbformat_minor": 2
}
