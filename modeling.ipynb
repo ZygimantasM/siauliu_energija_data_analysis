{
 "cells": [
  {
   "cell_type": "markdown",
   "metadata": {},
   "source": [
    "# 1. Setup"
   ]
  },
  {
   "cell_type": "markdown",
   "metadata": {},
   "source": [
    "Standard imports"
   ]
  },
  {
   "cell_type": "code",
   "execution_count": 1,
   "metadata": {},
   "outputs": [],
   "source": [
    "import pandas as pd\n",
    "import numpy as np\n",
    "import matplotlib.pyplot as plt\n",
    "import datetime"
   ]
  },
  {
   "cell_type": "markdown",
   "metadata": {},
   "source": [
    "Reading our data"
   ]
  },
  {
   "cell_type": "code",
   "execution_count": 2,
   "metadata": {},
   "outputs": [],
   "source": [
    "register = pd.read_csv(\"register.csv\")\n",
    "rooms = pd.read_csv(\"rooms.csv\")"
   ]
  },
  {
   "cell_type": "markdown",
   "metadata": {},
   "source": [
    "# 2. Feature Engineering"
   ]
  },
  {
   "cell_type": "markdown",
   "metadata": {},
   "source": [
    "- Summing the amount column for the same room and the same month to get the total energy consumed in a month\n",
    "- Left Joining register and rooms dataframes"
   ]
  },
  {
   "cell_type": "code",
   "execution_count": 3,
   "metadata": {},
   "outputs": [
    {
     "data": {
      "text/html": [
       "<div>\n",
       "<style scoped>\n",
       "    .dataframe tbody tr th:only-of-type {\n",
       "        vertical-align: middle;\n",
       "    }\n",
       "\n",
       "    .dataframe tbody tr th {\n",
       "        vertical-align: top;\n",
       "    }\n",
       "\n",
       "    .dataframe thead th {\n",
       "        text-align: right;\n",
       "    }\n",
       "</style>\n",
       "<table border=\"1\" class=\"dataframe\">\n",
       "  <thead>\n",
       "    <tr style=\"text-align: right;\">\n",
       "      <th></th>\n",
       "      <th>legal_entity</th>\n",
       "      <th>service_category</th>\n",
       "      <th>room_id</th>\n",
       "      <th>month</th>\n",
       "      <th>amount</th>\n",
       "      <th>building_id</th>\n",
       "      <th>room_area</th>\n",
       "      <th>build_year</th>\n",
       "      <th>building_floors</th>\n",
       "      <th>building_type</th>\n",
       "      <th>building_func</th>\n",
       "      <th>x_coord</th>\n",
       "      <th>y_coord</th>\n",
       "    </tr>\n",
       "  </thead>\n",
       "  <tbody>\n",
       "    <tr>\n",
       "      <th>0</th>\n",
       "      <td>False</td>\n",
       "      <td>Dvinarė kaina</td>\n",
       "      <td>005f6379f5dc0e1</td>\n",
       "      <td>2018-11-01</td>\n",
       "      <td>0.74</td>\n",
       "      <td>0a425666b45790e</td>\n",
       "      <td>45.1</td>\n",
       "      <td>1968-01-01</td>\n",
       "      <td>5.0</td>\n",
       "      <td>Gyvenamasis (trijų ir daugiau butų - daugiaauk...</td>\n",
       "      <td>Gyvenamasis (trijų ir daugiau butų - daugiaauk...</td>\n",
       "      <td>456564.0</td>\n",
       "      <td>6199541.0</td>\n",
       "    </tr>\n",
       "    <tr>\n",
       "      <th>1</th>\n",
       "      <td>False</td>\n",
       "      <td>Dvinarė kaina</td>\n",
       "      <td>005f6379f5dc0e1</td>\n",
       "      <td>2018-12-01</td>\n",
       "      <td>0.74</td>\n",
       "      <td>0a425666b45790e</td>\n",
       "      <td>45.1</td>\n",
       "      <td>1968-01-01</td>\n",
       "      <td>5.0</td>\n",
       "      <td>Gyvenamasis (trijų ir daugiau butų - daugiaauk...</td>\n",
       "      <td>Gyvenamasis (trijų ir daugiau butų - daugiaauk...</td>\n",
       "      <td>456564.0</td>\n",
       "      <td>6199541.0</td>\n",
       "    </tr>\n",
       "    <tr>\n",
       "      <th>2</th>\n",
       "      <td>False</td>\n",
       "      <td>Dvinarė kaina</td>\n",
       "      <td>005f6379f5dc0e1</td>\n",
       "      <td>2019-01-01</td>\n",
       "      <td>0.63</td>\n",
       "      <td>0a425666b45790e</td>\n",
       "      <td>45.1</td>\n",
       "      <td>1968-01-01</td>\n",
       "      <td>5.0</td>\n",
       "      <td>Gyvenamasis (trijų ir daugiau butų - daugiaauk...</td>\n",
       "      <td>Gyvenamasis (trijų ir daugiau butų - daugiaauk...</td>\n",
       "      <td>456564.0</td>\n",
       "      <td>6199541.0</td>\n",
       "    </tr>\n",
       "    <tr>\n",
       "      <th>3</th>\n",
       "      <td>False</td>\n",
       "      <td>Dvinarė kaina</td>\n",
       "      <td>005f6379f5dc0e1</td>\n",
       "      <td>2019-02-01</td>\n",
       "      <td>0.63</td>\n",
       "      <td>0a425666b45790e</td>\n",
       "      <td>45.1</td>\n",
       "      <td>1968-01-01</td>\n",
       "      <td>5.0</td>\n",
       "      <td>Gyvenamasis (trijų ir daugiau butų - daugiaauk...</td>\n",
       "      <td>Gyvenamasis (trijų ir daugiau butų - daugiaauk...</td>\n",
       "      <td>456564.0</td>\n",
       "      <td>6199541.0</td>\n",
       "    </tr>\n",
       "    <tr>\n",
       "      <th>4</th>\n",
       "      <td>False</td>\n",
       "      <td>Dvinarė kaina</td>\n",
       "      <td>005f6379f5dc0e1</td>\n",
       "      <td>2019-03-01</td>\n",
       "      <td>0.63</td>\n",
       "      <td>0a425666b45790e</td>\n",
       "      <td>45.1</td>\n",
       "      <td>1968-01-01</td>\n",
       "      <td>5.0</td>\n",
       "      <td>Gyvenamasis (trijų ir daugiau butų - daugiaauk...</td>\n",
       "      <td>Gyvenamasis (trijų ir daugiau butų - daugiaauk...</td>\n",
       "      <td>456564.0</td>\n",
       "      <td>6199541.0</td>\n",
       "    </tr>\n",
       "  </tbody>\n",
       "</table>\n",
       "</div>"
      ],
      "text/plain": [
       "   legal_entity service_category          room_id       month  amount  \\\n",
       "0         False    Dvinarė kaina  005f6379f5dc0e1  2018-11-01    0.74   \n",
       "1         False    Dvinarė kaina  005f6379f5dc0e1  2018-12-01    0.74   \n",
       "2         False    Dvinarė kaina  005f6379f5dc0e1  2019-01-01    0.63   \n",
       "3         False    Dvinarė kaina  005f6379f5dc0e1  2019-02-01    0.63   \n",
       "4         False    Dvinarė kaina  005f6379f5dc0e1  2019-03-01    0.63   \n",
       "\n",
       "       building_id  room_area  build_year  building_floors  \\\n",
       "0  0a425666b45790e       45.1  1968-01-01              5.0   \n",
       "1  0a425666b45790e       45.1  1968-01-01              5.0   \n",
       "2  0a425666b45790e       45.1  1968-01-01              5.0   \n",
       "3  0a425666b45790e       45.1  1968-01-01              5.0   \n",
       "4  0a425666b45790e       45.1  1968-01-01              5.0   \n",
       "\n",
       "                                       building_type  \\\n",
       "0  Gyvenamasis (trijų ir daugiau butų - daugiaauk...   \n",
       "1  Gyvenamasis (trijų ir daugiau butų - daugiaauk...   \n",
       "2  Gyvenamasis (trijų ir daugiau butų - daugiaauk...   \n",
       "3  Gyvenamasis (trijų ir daugiau butų - daugiaauk...   \n",
       "4  Gyvenamasis (trijų ir daugiau butų - daugiaauk...   \n",
       "\n",
       "                                       building_func   x_coord    y_coord  \n",
       "0  Gyvenamasis (trijų ir daugiau butų - daugiaauk...  456564.0  6199541.0  \n",
       "1  Gyvenamasis (trijų ir daugiau butų - daugiaauk...  456564.0  6199541.0  \n",
       "2  Gyvenamasis (trijų ir daugiau butų - daugiaauk...  456564.0  6199541.0  \n",
       "3  Gyvenamasis (trijų ir daugiau butų - daugiaauk...  456564.0  6199541.0  \n",
       "4  Gyvenamasis (trijų ir daugiau butų - daugiaauk...  456564.0  6199541.0  "
      ]
     },
     "execution_count": 3,
     "metadata": {},
     "output_type": "execute_result"
    }
   ],
   "source": [
    "grouped = register.groupby([\"legal_entity\", \"service_category\", \"room_id\", \"month\"])[\"amount\"].sum().reset_index()\n",
    "joined = pd.merge(grouped, rooms, on=\"room_id\", how=\"left\")\n",
    "joined.head()"
   ]
  },
  {
   "cell_type": "markdown",
   "metadata": {},
   "source": [
    "- Dropping useless columns like room_id, building_id, because they logically don't have an impact on the target column, or we don't want to rely on them for a prediction.\n",
    "- Converting datetime columns to numerical columns"
   ]
  },
  {
   "cell_type": "code",
   "execution_count": 4,
   "metadata": {},
   "outputs": [
    {
     "data": {
      "text/html": [
       "<div>\n",
       "<style scoped>\n",
       "    .dataframe tbody tr th:only-of-type {\n",
       "        vertical-align: middle;\n",
       "    }\n",
       "\n",
       "    .dataframe tbody tr th {\n",
       "        vertical-align: top;\n",
       "    }\n",
       "\n",
       "    .dataframe thead th {\n",
       "        text-align: right;\n",
       "    }\n",
       "</style>\n",
       "<table border=\"1\" class=\"dataframe\">\n",
       "  <thead>\n",
       "    <tr style=\"text-align: right;\">\n",
       "      <th></th>\n",
       "      <th>legal_entity</th>\n",
       "      <th>service_category</th>\n",
       "      <th>month</th>\n",
       "      <th>amount</th>\n",
       "      <th>room_area</th>\n",
       "      <th>build_year</th>\n",
       "      <th>building_floors</th>\n",
       "      <th>building_func</th>\n",
       "      <th>x_coord</th>\n",
       "      <th>y_coord</th>\n",
       "    </tr>\n",
       "  </thead>\n",
       "  <tbody>\n",
       "    <tr>\n",
       "      <th>0</th>\n",
       "      <td>False</td>\n",
       "      <td>Dvinarė kaina</td>\n",
       "      <td>11</td>\n",
       "      <td>0.74</td>\n",
       "      <td>45.1</td>\n",
       "      <td>1968.0</td>\n",
       "      <td>5.0</td>\n",
       "      <td>Gyvenamasis (trijų ir daugiau butų - daugiaauk...</td>\n",
       "      <td>456564.0</td>\n",
       "      <td>6199541.0</td>\n",
       "    </tr>\n",
       "    <tr>\n",
       "      <th>1</th>\n",
       "      <td>False</td>\n",
       "      <td>Dvinarė kaina</td>\n",
       "      <td>12</td>\n",
       "      <td>0.74</td>\n",
       "      <td>45.1</td>\n",
       "      <td>1968.0</td>\n",
       "      <td>5.0</td>\n",
       "      <td>Gyvenamasis (trijų ir daugiau butų - daugiaauk...</td>\n",
       "      <td>456564.0</td>\n",
       "      <td>6199541.0</td>\n",
       "    </tr>\n",
       "    <tr>\n",
       "      <th>2</th>\n",
       "      <td>False</td>\n",
       "      <td>Dvinarė kaina</td>\n",
       "      <td>1</td>\n",
       "      <td>0.63</td>\n",
       "      <td>45.1</td>\n",
       "      <td>1968.0</td>\n",
       "      <td>5.0</td>\n",
       "      <td>Gyvenamasis (trijų ir daugiau butų - daugiaauk...</td>\n",
       "      <td>456564.0</td>\n",
       "      <td>6199541.0</td>\n",
       "    </tr>\n",
       "    <tr>\n",
       "      <th>3</th>\n",
       "      <td>False</td>\n",
       "      <td>Dvinarė kaina</td>\n",
       "      <td>2</td>\n",
       "      <td>0.63</td>\n",
       "      <td>45.1</td>\n",
       "      <td>1968.0</td>\n",
       "      <td>5.0</td>\n",
       "      <td>Gyvenamasis (trijų ir daugiau butų - daugiaauk...</td>\n",
       "      <td>456564.0</td>\n",
       "      <td>6199541.0</td>\n",
       "    </tr>\n",
       "    <tr>\n",
       "      <th>4</th>\n",
       "      <td>False</td>\n",
       "      <td>Dvinarė kaina</td>\n",
       "      <td>3</td>\n",
       "      <td>0.63</td>\n",
       "      <td>45.1</td>\n",
       "      <td>1968.0</td>\n",
       "      <td>5.0</td>\n",
       "      <td>Gyvenamasis (trijų ir daugiau butų - daugiaauk...</td>\n",
       "      <td>456564.0</td>\n",
       "      <td>6199541.0</td>\n",
       "    </tr>\n",
       "  </tbody>\n",
       "</table>\n",
       "</div>"
      ],
      "text/plain": [
       "   legal_entity service_category  month  amount  room_area  build_year  \\\n",
       "0         False    Dvinarė kaina     11    0.74       45.1      1968.0   \n",
       "1         False    Dvinarė kaina     12    0.74       45.1      1968.0   \n",
       "2         False    Dvinarė kaina      1    0.63       45.1      1968.0   \n",
       "3         False    Dvinarė kaina      2    0.63       45.1      1968.0   \n",
       "4         False    Dvinarė kaina      3    0.63       45.1      1968.0   \n",
       "\n",
       "   building_floors                                      building_func  \\\n",
       "0              5.0  Gyvenamasis (trijų ir daugiau butų - daugiaauk...   \n",
       "1              5.0  Gyvenamasis (trijų ir daugiau butų - daugiaauk...   \n",
       "2              5.0  Gyvenamasis (trijų ir daugiau butų - daugiaauk...   \n",
       "3              5.0  Gyvenamasis (trijų ir daugiau butų - daugiaauk...   \n",
       "4              5.0  Gyvenamasis (trijų ir daugiau butų - daugiaauk...   \n",
       "\n",
       "    x_coord    y_coord  \n",
       "0  456564.0  6199541.0  \n",
       "1  456564.0  6199541.0  \n",
       "2  456564.0  6199541.0  \n",
       "3  456564.0  6199541.0  \n",
       "4  456564.0  6199541.0  "
      ]
     },
     "execution_count": 4,
     "metadata": {},
     "output_type": "execute_result"
    }
   ],
   "source": [
    "dropped = joined.drop([\"room_id\", \"building_id\", \"building_type\"], axis=1)\n",
    "\n",
    "dropped[\"build_year\"] = pd.to_datetime(dropped[\"build_year\"])\n",
    "dropped[\"build_year\"] = dropped[\"build_year\"].dt.year\n",
    "\n",
    "dropped[\"month\"] = pd.to_datetime(dropped[\"month\"])\n",
    "dropped[\"month\"] = dropped[\"month\"].dt.month\n",
    "\n",
    "dropped.head()"
   ]
  },
  {
   "cell_type": "markdown",
   "metadata": {},
   "source": [
    "Selecting rows only for a certain category"
   ]
  },
  {
   "cell_type": "code",
   "execution_count": 61,
   "metadata": {},
   "outputs": [
    {
     "name": "stderr",
     "output_type": "stream",
     "text": [
      "C:\\Users\\zygim\\AppData\\Local\\Temp\\ipykernel_9496\\491170069.py:2: SettingWithCopyWarning: \n",
      "A value is trying to be set on a copy of a slice from a DataFrame\n",
      "\n",
      "See the caveats in the documentation: https://pandas.pydata.org/pandas-docs/stable/user_guide/indexing.html#returning-a-view-versus-a-copy\n",
      "  filtered.drop(['service_category'], axis=1, inplace=True)\n"
     ]
    },
    {
     "data": {
      "text/html": [
       "<div>\n",
       "<style scoped>\n",
       "    .dataframe tbody tr th:only-of-type {\n",
       "        vertical-align: middle;\n",
       "    }\n",
       "\n",
       "    .dataframe tbody tr th {\n",
       "        vertical-align: top;\n",
       "    }\n",
       "\n",
       "    .dataframe thead th {\n",
       "        text-align: right;\n",
       "    }\n",
       "</style>\n",
       "<table border=\"1\" class=\"dataframe\">\n",
       "  <thead>\n",
       "    <tr style=\"text-align: right;\">\n",
       "      <th></th>\n",
       "      <th>legal_entity</th>\n",
       "      <th>month</th>\n",
       "      <th>amount</th>\n",
       "      <th>room_area</th>\n",
       "      <th>build_year</th>\n",
       "      <th>building_floors</th>\n",
       "      <th>building_func</th>\n",
       "      <th>x_coord</th>\n",
       "      <th>y_coord</th>\n",
       "    </tr>\n",
       "  </thead>\n",
       "  <tbody>\n",
       "    <tr>\n",
       "      <th>6670598</th>\n",
       "      <td>False</td>\n",
       "      <td>11</td>\n",
       "      <td>676.0647</td>\n",
       "      <td>50.1</td>\n",
       "      <td>1987.0</td>\n",
       "      <td>5.0</td>\n",
       "      <td>Gyvenamasis (trijų ir daugiau butų - daugiaauk...</td>\n",
       "      <td>453840.0</td>\n",
       "      <td>6198465.0</td>\n",
       "    </tr>\n",
       "    <tr>\n",
       "      <th>6670599</th>\n",
       "      <td>False</td>\n",
       "      <td>12</td>\n",
       "      <td>994.0728</td>\n",
       "      <td>50.1</td>\n",
       "      <td>1987.0</td>\n",
       "      <td>5.0</td>\n",
       "      <td>Gyvenamasis (trijų ir daugiau butų - daugiaauk...</td>\n",
       "      <td>453840.0</td>\n",
       "      <td>6198465.0</td>\n",
       "    </tr>\n",
       "    <tr>\n",
       "      <th>6670600</th>\n",
       "      <td>False</td>\n",
       "      <td>1</td>\n",
       "      <td>1189.3836</td>\n",
       "      <td>50.1</td>\n",
       "      <td>1987.0</td>\n",
       "      <td>5.0</td>\n",
       "      <td>Gyvenamasis (trijų ir daugiau butų - daugiaauk...</td>\n",
       "      <td>453840.0</td>\n",
       "      <td>6198465.0</td>\n",
       "    </tr>\n",
       "    <tr>\n",
       "      <th>6670601</th>\n",
       "      <td>False</td>\n",
       "      <td>2</td>\n",
       "      <td>926.7941</td>\n",
       "      <td>50.1</td>\n",
       "      <td>1987.0</td>\n",
       "      <td>5.0</td>\n",
       "      <td>Gyvenamasis (trijų ir daugiau butų - daugiaauk...</td>\n",
       "      <td>453840.0</td>\n",
       "      <td>6198465.0</td>\n",
       "    </tr>\n",
       "    <tr>\n",
       "      <th>6670602</th>\n",
       "      <td>False</td>\n",
       "      <td>3</td>\n",
       "      <td>887.8715</td>\n",
       "      <td>50.1</td>\n",
       "      <td>1987.0</td>\n",
       "      <td>5.0</td>\n",
       "      <td>Gyvenamasis (trijų ir daugiau butų - daugiaauk...</td>\n",
       "      <td>453840.0</td>\n",
       "      <td>6198465.0</td>\n",
       "    </tr>\n",
       "  </tbody>\n",
       "</table>\n",
       "</div>"
      ],
      "text/plain": [
       "         legal_entity  month     amount  room_area  build_year  \\\n",
       "6670598         False     11   676.0647       50.1      1987.0   \n",
       "6670599         False     12   994.0728       50.1      1987.0   \n",
       "6670600         False      1  1189.3836       50.1      1987.0   \n",
       "6670601         False      2   926.7941       50.1      1987.0   \n",
       "6670602         False      3   887.8715       50.1      1987.0   \n",
       "\n",
       "         building_floors                                      building_func  \\\n",
       "6670598              5.0  Gyvenamasis (trijų ir daugiau butų - daugiaauk...   \n",
       "6670599              5.0  Gyvenamasis (trijų ir daugiau butų - daugiaauk...   \n",
       "6670600              5.0  Gyvenamasis (trijų ir daugiau butų - daugiaauk...   \n",
       "6670601              5.0  Gyvenamasis (trijų ir daugiau butų - daugiaauk...   \n",
       "6670602              5.0  Gyvenamasis (trijų ir daugiau butų - daugiaauk...   \n",
       "\n",
       "          x_coord    y_coord  \n",
       "6670598  453840.0  6198465.0  \n",
       "6670599  453840.0  6198465.0  \n",
       "6670600  453840.0  6198465.0  \n",
       "6670601  453840.0  6198465.0  \n",
       "6670602  453840.0  6198465.0  "
      ]
     },
     "execution_count": 61,
     "metadata": {},
     "output_type": "execute_result"
    }
   ],
   "source": [
    "filtered = dropped[dropped[\"service_category\"] == \"Šiluma\"]\n",
    "filtered.drop(['service_category'], axis=1, inplace=True)\n",
    "len(filtered), len(dropped)\n",
    "filtered.head()"
   ]
  },
  {
   "cell_type": "markdown",
   "metadata": {},
   "source": [
    "Removing negative energy amounts (doesn't make sense?), also considered removing outliers, but I don't think they are errors and there's very few of them, but it would be bad to remove them as they might represent buildings that have different functions. If you look at the top consumers of energy it's generally hospitals, clinics and administrative buildings, which represent a very small subset of the data."
   ]
  },
  {
   "cell_type": "code",
   "execution_count": null,
   "metadata": {},
   "outputs": [],
   "source": [
    "filtered = filtered[filtered[\"amount\"] > 0]"
   ]
  },
  {
   "cell_type": "markdown",
   "metadata": {},
   "source": [
    "Splitting dataset into features and target"
   ]
  },
  {
   "cell_type": "code",
   "execution_count": 7,
   "metadata": {},
   "outputs": [],
   "source": [
    "X, y = filtered.drop([\"amount\"], axis=1), filtered[\"amount\"]"
   ]
  },
  {
   "cell_type": "markdown",
   "metadata": {},
   "source": [
    "Spliting dataset into train and test splits, dataset is very large so we can afford a smaller fraction of the dataset to be allocated to evaluation"
   ]
  },
  {
   "cell_type": "code",
   "execution_count": 8,
   "metadata": {},
   "outputs": [
    {
     "data": {
      "text/plain": [
       "(3001829, 157991)"
      ]
     },
     "execution_count": 8,
     "metadata": {},
     "output_type": "execute_result"
    }
   ],
   "source": [
    "from sklearn.model_selection import train_test_split\n",
    "\n",
    "X_train, X_test, y_train, y_test = train_test_split(X, y, test_size=0.05, random_state=42)\n",
    "len(X_train), len(X_test)"
   ]
  },
  {
   "cell_type": "markdown",
   "metadata": {},
   "source": [
    "# 3. Cleaning, Normalization"
   ]
  },
  {
   "cell_type": "markdown",
   "metadata": {},
   "source": [
    "Using column transformer and various encoders to prepare data for modelling"
   ]
  },
  {
   "cell_type": "code",
   "execution_count": 9,
   "metadata": {},
   "outputs": [],
   "source": [
    "from sklearn.pipeline import Pipeline\n",
    "from sklearn.compose import ColumnTransformer\n",
    "from sklearn.preprocessing import StandardScaler, OneHotEncoder, OrdinalEncoder\n",
    "from sklearn.impute import SimpleImputer\n",
    "\n",
    "num_pipeline = Pipeline([\n",
    "    (\"imp\", SimpleImputer()),\n",
    "    (\"scaler\", StandardScaler())\n",
    "])\n",
    "\n",
    "int_pipeline = Pipeline([\n",
    "    (\"imp\", SimpleImputer(strategy=\"median\")),\n",
    "])\n",
    "\n",
    "ohe_pipeline = Pipeline([\n",
    "    (\"imp\", SimpleImputer(strategy=\"most_frequent\")),\n",
    "    (\"ohe\", OneHotEncoder(sparse_output=False, handle_unknown=\"ignore\"))\n",
    "])\n",
    "\n",
    "ord_pipeline = Pipeline([\n",
    "    (\"ord\", OrdinalEncoder()),\n",
    "    (\"imp\", SimpleImputer(strategy=\"most_frequent\")),\n",
    "])\n",
    "\n",
    "num_cols = [\"room_area\", \"x_coord\", \"y_coord\"]\n",
    "int_cols = [\"build_year\", \"building_floors\", \"month\"]\n",
    "ohe_cols = [\"building_func\"]\n",
    "ord_cols = [\"legal_entity\"]\n",
    "\n",
    "processor = ColumnTransformer([\n",
    "    (\"num\", num_pipeline, num_cols),\n",
    "    (\"int\", int_pipeline, int_cols),\n",
    "    (\"ohe\", ohe_pipeline, ohe_cols),\n",
    "    (\"ord\", ord_pipeline, ord_cols)\n",
    "])"
   ]
  },
  {
   "cell_type": "markdown",
   "metadata": {},
   "source": [
    "Applying the transformations to our data"
   ]
  },
  {
   "cell_type": "code",
   "execution_count": 38,
   "metadata": {},
   "outputs": [],
   "source": [
    "X_train_proc = pd.DataFrame(processor.fit_transform(X_train))\n",
    "X_test_proc = pd.DataFrame(processor.transform(X_test))\n",
    "\n",
    "feat_names = processor.get_feature_names_out()\n",
    "X_train_proc.columns = feat_names\n",
    "X_test_proc.columns = feat_names"
   ]
  },
  {
   "cell_type": "markdown",
   "metadata": {},
   "source": [
    "Final result looks like this:"
   ]
  },
  {
   "cell_type": "code",
   "execution_count": 11,
   "metadata": {},
   "outputs": [
    {
     "data": {
      "text/html": [
       "<div>\n",
       "<style scoped>\n",
       "    .dataframe tbody tr th:only-of-type {\n",
       "        vertical-align: middle;\n",
       "    }\n",
       "\n",
       "    .dataframe tbody tr th {\n",
       "        vertical-align: top;\n",
       "    }\n",
       "\n",
       "    .dataframe thead th {\n",
       "        text-align: right;\n",
       "    }\n",
       "</style>\n",
       "<table border=\"1\" class=\"dataframe\">\n",
       "  <thead>\n",
       "    <tr style=\"text-align: right;\">\n",
       "      <th></th>\n",
       "      <th>num__room_area</th>\n",
       "      <th>num__x_coord</th>\n",
       "      <th>num__y_coord</th>\n",
       "      <th>int__build_year</th>\n",
       "      <th>int__building_floors</th>\n",
       "      <th>int__month</th>\n",
       "      <th>ohe__building_func_Administracinė</th>\n",
       "      <th>ohe__building_func_Gamybos</th>\n",
       "      <th>ohe__building_func_Gydymo</th>\n",
       "      <th>ohe__building_func_Gyvenamasis (individualus pastatas)</th>\n",
       "      <th>...</th>\n",
       "      <th>ohe__building_func_Kultūros</th>\n",
       "      <th>ohe__building_func_Maitinimo</th>\n",
       "      <th>ohe__building_func_Mokslo</th>\n",
       "      <th>ohe__building_func_Prekybos</th>\n",
       "      <th>ohe__building_func_Religinės</th>\n",
       "      <th>ohe__building_func_Sandėliavimo</th>\n",
       "      <th>ohe__building_func_Sporto</th>\n",
       "      <th>ohe__building_func_Transporto</th>\n",
       "      <th>ohe__building_func_Viešbučių</th>\n",
       "      <th>ord__legal_entity</th>\n",
       "    </tr>\n",
       "  </thead>\n",
       "  <tbody>\n",
       "    <tr>\n",
       "      <th>0</th>\n",
       "      <td>-0.016947</td>\n",
       "      <td>0.722492</td>\n",
       "      <td>-2.677047</td>\n",
       "      <td>1972.0</td>\n",
       "      <td>5.0</td>\n",
       "      <td>3.0</td>\n",
       "      <td>0.0</td>\n",
       "      <td>0.0</td>\n",
       "      <td>0.0</td>\n",
       "      <td>0.0</td>\n",
       "      <td>...</td>\n",
       "      <td>0.0</td>\n",
       "      <td>0.0</td>\n",
       "      <td>0.0</td>\n",
       "      <td>0.0</td>\n",
       "      <td>0.0</td>\n",
       "      <td>0.0</td>\n",
       "      <td>0.0</td>\n",
       "      <td>0.0</td>\n",
       "      <td>0.0</td>\n",
       "      <td>0.0</td>\n",
       "    </tr>\n",
       "    <tr>\n",
       "      <th>1</th>\n",
       "      <td>-0.007234</td>\n",
       "      <td>-3.670173</td>\n",
       "      <td>3.243656</td>\n",
       "      <td>1982.0</td>\n",
       "      <td>5.0</td>\n",
       "      <td>1.0</td>\n",
       "      <td>0.0</td>\n",
       "      <td>0.0</td>\n",
       "      <td>0.0</td>\n",
       "      <td>0.0</td>\n",
       "      <td>...</td>\n",
       "      <td>0.0</td>\n",
       "      <td>0.0</td>\n",
       "      <td>0.0</td>\n",
       "      <td>0.0</td>\n",
       "      <td>0.0</td>\n",
       "      <td>0.0</td>\n",
       "      <td>0.0</td>\n",
       "      <td>0.0</td>\n",
       "      <td>0.0</td>\n",
       "      <td>0.0</td>\n",
       "    </tr>\n",
       "    <tr>\n",
       "      <th>2</th>\n",
       "      <td>-0.008523</td>\n",
       "      <td>-0.066517</td>\n",
       "      <td>-0.272363</td>\n",
       "      <td>1980.0</td>\n",
       "      <td>5.0</td>\n",
       "      <td>12.0</td>\n",
       "      <td>0.0</td>\n",
       "      <td>0.0</td>\n",
       "      <td>0.0</td>\n",
       "      <td>0.0</td>\n",
       "      <td>...</td>\n",
       "      <td>0.0</td>\n",
       "      <td>0.0</td>\n",
       "      <td>0.0</td>\n",
       "      <td>0.0</td>\n",
       "      <td>0.0</td>\n",
       "      <td>0.0</td>\n",
       "      <td>0.0</td>\n",
       "      <td>0.0</td>\n",
       "      <td>0.0</td>\n",
       "      <td>0.0</td>\n",
       "    </tr>\n",
       "  </tbody>\n",
       "</table>\n",
       "<p>3 rows × 23 columns</p>\n",
       "</div>"
      ],
      "text/plain": [
       "   num__room_area  num__x_coord  num__y_coord  int__build_year  \\\n",
       "0       -0.016947      0.722492     -2.677047           1972.0   \n",
       "1       -0.007234     -3.670173      3.243656           1982.0   \n",
       "2       -0.008523     -0.066517     -0.272363           1980.0   \n",
       "\n",
       "   int__building_floors  int__month  ohe__building_func_Administracinė  \\\n",
       "0                   5.0         3.0                                0.0   \n",
       "1                   5.0         1.0                                0.0   \n",
       "2                   5.0        12.0                                0.0   \n",
       "\n",
       "   ohe__building_func_Gamybos  ohe__building_func_Gydymo  \\\n",
       "0                         0.0                        0.0   \n",
       "1                         0.0                        0.0   \n",
       "2                         0.0                        0.0   \n",
       "\n",
       "   ohe__building_func_Gyvenamasis (individualus pastatas)  ...  \\\n",
       "0                                                0.0       ...   \n",
       "1                                                0.0       ...   \n",
       "2                                                0.0       ...   \n",
       "\n",
       "   ohe__building_func_Kultūros  ohe__building_func_Maitinimo  \\\n",
       "0                          0.0                           0.0   \n",
       "1                          0.0                           0.0   \n",
       "2                          0.0                           0.0   \n",
       "\n",
       "   ohe__building_func_Mokslo  ohe__building_func_Prekybos  \\\n",
       "0                        0.0                          0.0   \n",
       "1                        0.0                          0.0   \n",
       "2                        0.0                          0.0   \n",
       "\n",
       "   ohe__building_func_Religinės  ohe__building_func_Sandėliavimo  \\\n",
       "0                           0.0                              0.0   \n",
       "1                           0.0                              0.0   \n",
       "2                           0.0                              0.0   \n",
       "\n",
       "   ohe__building_func_Sporto  ohe__building_func_Transporto  \\\n",
       "0                        0.0                            0.0   \n",
       "1                        0.0                            0.0   \n",
       "2                        0.0                            0.0   \n",
       "\n",
       "   ohe__building_func_Viešbučių  ord__legal_entity  \n",
       "0                           0.0                0.0  \n",
       "1                           0.0                0.0  \n",
       "2                           0.0                0.0  \n",
       "\n",
       "[3 rows x 23 columns]"
      ]
     },
     "execution_count": 11,
     "metadata": {},
     "output_type": "execute_result"
    }
   ],
   "source": [
    "X_train_proc.head(3)"
   ]
  },
  {
   "cell_type": "markdown",
   "metadata": {},
   "source": [
    "# 4. Modelling"
   ]
  },
  {
   "cell_type": "markdown",
   "metadata": {},
   "source": [
    "Using XGBoost model, as gradient boosted decision trees usually work best for tabular datasets"
   ]
  },
  {
   "cell_type": "markdown",
   "metadata": {},
   "source": [
    "Evaluating a dummy regressor to use as a baseline for comparison basically meaning it tries to guess the actual values by predicting the mean value of the target, RMSE = 3697, MAE = 543"
   ]
  },
  {
   "cell_type": "code",
   "execution_count": 62,
   "metadata": {},
   "outputs": [
    {
     "name": "stdout",
     "output_type": "stream",
     "text": [
      "Root Mean Squared Error: 3697.534404304074\n",
      "Mean Absolute Error: 543.0611177577291\n"
     ]
    }
   ],
   "source": [
    "from sklearn.dummy import DummyRegressor\n",
    "from sklearn.metrics import mean_squared_error, mean_absolute_error\n",
    "\n",
    "dummy_regressor = DummyRegressor(strategy='mean')\n",
    "dummy_regressor.fit(X_train_proc, y_train)\n",
    "\n",
    "# Predict on the test set\n",
    "y_pred = dummy_regressor.predict(X_test_proc)\n",
    "\n",
    "# Evaluate the performance\n",
    "mse = mean_squared_error(y_test, y_pred, squared=False)\n",
    "mae = mean_absolute_error(y_test, y_pred)\n",
    "print(f\"Root Mean Squared Error: {mse}\")\n",
    "print(f\"Mean Absolute Error: {mae}\")"
   ]
  },
  {
   "cell_type": "code",
   "execution_count": 13,
   "metadata": {},
   "outputs": [
    {
     "name": "stdout",
     "output_type": "stream",
     "text": [
      "[0]\tvalidation_0-rmse:2903.84815\n",
      "[1]\tvalidation_0-rmse:2378.79734\n",
      "[2]\tvalidation_0-rmse:2060.72644\n",
      "[3]\tvalidation_0-rmse:1853.72721\n",
      "[4]\tvalidation_0-rmse:1723.53746\n",
      "[5]\tvalidation_0-rmse:1599.78921\n",
      "[6]\tvalidation_0-rmse:1528.05465\n",
      "[7]\tvalidation_0-rmse:1486.31342\n",
      "[8]\tvalidation_0-rmse:1441.44610\n",
      "[9]\tvalidation_0-rmse:1341.12229\n",
      "[10]\tvalidation_0-rmse:1276.43971\n",
      "[11]\tvalidation_0-rmse:1230.53731\n",
      "[12]\tvalidation_0-rmse:1185.68774\n",
      "[13]\tvalidation_0-rmse:1183.70222\n",
      "[14]\tvalidation_0-rmse:1171.46554\n",
      "[15]\tvalidation_0-rmse:1160.88159\n",
      "[16]\tvalidation_0-rmse:1131.17089\n",
      "[17]\tvalidation_0-rmse:1127.18391\n",
      "[18]\tvalidation_0-rmse:1107.60978\n",
      "[19]\tvalidation_0-rmse:1096.36539\n",
      "[20]\tvalidation_0-rmse:1088.23683\n",
      "[21]\tvalidation_0-rmse:1083.95424\n",
      "[22]\tvalidation_0-rmse:1072.04921\n",
      "[23]\tvalidation_0-rmse:1069.20516\n",
      "[24]\tvalidation_0-rmse:1062.25364\n",
      "[25]\tvalidation_0-rmse:1044.89498\n",
      "[26]\tvalidation_0-rmse:1040.15818\n",
      "[27]\tvalidation_0-rmse:1034.42411\n",
      "[28]\tvalidation_0-rmse:1026.88960\n",
      "[29]\tvalidation_0-rmse:1019.44513\n",
      "[30]\tvalidation_0-rmse:1008.44013\n",
      "[31]\tvalidation_0-rmse:1007.84639\n",
      "[32]\tvalidation_0-rmse:998.66448\n",
      "[33]\tvalidation_0-rmse:996.36093\n",
      "[34]\tvalidation_0-rmse:966.03505\n",
      "[35]\tvalidation_0-rmse:964.86269\n",
      "[36]\tvalidation_0-rmse:959.07361\n",
      "[37]\tvalidation_0-rmse:951.75650\n",
      "[38]\tvalidation_0-rmse:939.97098\n",
      "[39]\tvalidation_0-rmse:938.84155\n",
      "[40]\tvalidation_0-rmse:938.44867\n",
      "[41]\tvalidation_0-rmse:937.30969\n",
      "[42]\tvalidation_0-rmse:936.71316\n",
      "[43]\tvalidation_0-rmse:925.18145\n",
      "[44]\tvalidation_0-rmse:922.18047\n",
      "[45]\tvalidation_0-rmse:919.77536\n",
      "[46]\tvalidation_0-rmse:915.87885\n",
      "[47]\tvalidation_0-rmse:911.80432\n",
      "[48]\tvalidation_0-rmse:904.63620\n",
      "[49]\tvalidation_0-rmse:899.40788\n",
      "[50]\tvalidation_0-rmse:897.80193\n",
      "[51]\tvalidation_0-rmse:897.39441\n",
      "[52]\tvalidation_0-rmse:890.42204\n",
      "[53]\tvalidation_0-rmse:890.70479\n",
      "[54]\tvalidation_0-rmse:881.73263\n",
      "[55]\tvalidation_0-rmse:881.87355\n",
      "[56]\tvalidation_0-rmse:881.70612\n",
      "[57]\tvalidation_0-rmse:880.95354\n",
      "[58]\tvalidation_0-rmse:880.67025\n",
      "[59]\tvalidation_0-rmse:878.98863\n",
      "[60]\tvalidation_0-rmse:877.50225\n",
      "[61]\tvalidation_0-rmse:873.64931\n",
      "[62]\tvalidation_0-rmse:871.56197\n",
      "[63]\tvalidation_0-rmse:870.07778\n",
      "[64]\tvalidation_0-rmse:869.24616\n",
      "[65]\tvalidation_0-rmse:867.91430\n",
      "[66]\tvalidation_0-rmse:867.56813\n",
      "[67]\tvalidation_0-rmse:865.80419\n",
      "[68]\tvalidation_0-rmse:865.55117\n",
      "[69]\tvalidation_0-rmse:862.52796\n",
      "[70]\tvalidation_0-rmse:860.66199\n",
      "[71]\tvalidation_0-rmse:860.04268\n",
      "[72]\tvalidation_0-rmse:852.26590\n",
      "[73]\tvalidation_0-rmse:851.12245\n",
      "[74]\tvalidation_0-rmse:847.44355\n",
      "[75]\tvalidation_0-rmse:846.41582\n",
      "[76]\tvalidation_0-rmse:845.12327\n",
      "[77]\tvalidation_0-rmse:844.74513\n",
      "[78]\tvalidation_0-rmse:844.03420\n",
      "[79]\tvalidation_0-rmse:843.82793\n",
      "[80]\tvalidation_0-rmse:836.44514\n",
      "[81]\tvalidation_0-rmse:834.32768\n",
      "[82]\tvalidation_0-rmse:834.05761\n",
      "[83]\tvalidation_0-rmse:831.23699\n",
      "[84]\tvalidation_0-rmse:827.10005\n",
      "[85]\tvalidation_0-rmse:825.18115\n",
      "[86]\tvalidation_0-rmse:825.24768\n",
      "[87]\tvalidation_0-rmse:825.53424\n",
      "[88]\tvalidation_0-rmse:824.77519\n",
      "[89]\tvalidation_0-rmse:824.51940\n",
      "[90]\tvalidation_0-rmse:823.06480\n",
      "[91]\tvalidation_0-rmse:822.41711\n",
      "[92]\tvalidation_0-rmse:821.56925\n",
      "[93]\tvalidation_0-rmse:821.27158\n",
      "[94]\tvalidation_0-rmse:820.35470\n",
      "[95]\tvalidation_0-rmse:819.54767\n",
      "[96]\tvalidation_0-rmse:818.93421\n",
      "[97]\tvalidation_0-rmse:817.62139\n",
      "[98]\tvalidation_0-rmse:816.27306\n",
      "[99]\tvalidation_0-rmse:815.46508\n"
     ]
    },
    {
     "data": {
      "text/html": [
       "<style>#sk-container-id-1 {color: black;}#sk-container-id-1 pre{padding: 0;}#sk-container-id-1 div.sk-toggleable {background-color: white;}#sk-container-id-1 label.sk-toggleable__label {cursor: pointer;display: block;width: 100%;margin-bottom: 0;padding: 0.3em;box-sizing: border-box;text-align: center;}#sk-container-id-1 label.sk-toggleable__label-arrow:before {content: \"▸\";float: left;margin-right: 0.25em;color: #696969;}#sk-container-id-1 label.sk-toggleable__label-arrow:hover:before {color: black;}#sk-container-id-1 div.sk-estimator:hover label.sk-toggleable__label-arrow:before {color: black;}#sk-container-id-1 div.sk-toggleable__content {max-height: 0;max-width: 0;overflow: hidden;text-align: left;background-color: #f0f8ff;}#sk-container-id-1 div.sk-toggleable__content pre {margin: 0.2em;color: black;border-radius: 0.25em;background-color: #f0f8ff;}#sk-container-id-1 input.sk-toggleable__control:checked~div.sk-toggleable__content {max-height: 200px;max-width: 100%;overflow: auto;}#sk-container-id-1 input.sk-toggleable__control:checked~label.sk-toggleable__label-arrow:before {content: \"▾\";}#sk-container-id-1 div.sk-estimator input.sk-toggleable__control:checked~label.sk-toggleable__label {background-color: #d4ebff;}#sk-container-id-1 div.sk-label input.sk-toggleable__control:checked~label.sk-toggleable__label {background-color: #d4ebff;}#sk-container-id-1 input.sk-hidden--visually {border: 0;clip: rect(1px 1px 1px 1px);clip: rect(1px, 1px, 1px, 1px);height: 1px;margin: -1px;overflow: hidden;padding: 0;position: absolute;width: 1px;}#sk-container-id-1 div.sk-estimator {font-family: monospace;background-color: #f0f8ff;border: 1px dotted black;border-radius: 0.25em;box-sizing: border-box;margin-bottom: 0.5em;}#sk-container-id-1 div.sk-estimator:hover {background-color: #d4ebff;}#sk-container-id-1 div.sk-parallel-item::after {content: \"\";width: 100%;border-bottom: 1px solid gray;flex-grow: 1;}#sk-container-id-1 div.sk-label:hover label.sk-toggleable__label {background-color: #d4ebff;}#sk-container-id-1 div.sk-serial::before {content: \"\";position: absolute;border-left: 1px solid gray;box-sizing: border-box;top: 0;bottom: 0;left: 50%;z-index: 0;}#sk-container-id-1 div.sk-serial {display: flex;flex-direction: column;align-items: center;background-color: white;padding-right: 0.2em;padding-left: 0.2em;position: relative;}#sk-container-id-1 div.sk-item {position: relative;z-index: 1;}#sk-container-id-1 div.sk-parallel {display: flex;align-items: stretch;justify-content: center;background-color: white;position: relative;}#sk-container-id-1 div.sk-item::before, #sk-container-id-1 div.sk-parallel-item::before {content: \"\";position: absolute;border-left: 1px solid gray;box-sizing: border-box;top: 0;bottom: 0;left: 50%;z-index: -1;}#sk-container-id-1 div.sk-parallel-item {display: flex;flex-direction: column;z-index: 1;position: relative;background-color: white;}#sk-container-id-1 div.sk-parallel-item:first-child::after {align-self: flex-end;width: 50%;}#sk-container-id-1 div.sk-parallel-item:last-child::after {align-self: flex-start;width: 50%;}#sk-container-id-1 div.sk-parallel-item:only-child::after {width: 0;}#sk-container-id-1 div.sk-dashed-wrapped {border: 1px dashed gray;margin: 0 0.4em 0.5em 0.4em;box-sizing: border-box;padding-bottom: 0.4em;background-color: white;}#sk-container-id-1 div.sk-label label {font-family: monospace;font-weight: bold;display: inline-block;line-height: 1.2em;}#sk-container-id-1 div.sk-label-container {text-align: center;}#sk-container-id-1 div.sk-container {/* jupyter's `normalize.less` sets `[hidden] { display: none; }` but bootstrap.min.css set `[hidden] { display: none !important; }` so we also need the `!important` here to be able to override the default hidden behavior on the sphinx rendered scikit-learn.org. See: https://github.com/scikit-learn/scikit-learn/issues/21755 */display: inline-block !important;position: relative;}#sk-container-id-1 div.sk-text-repr-fallback {display: none;}</style><div id=\"sk-container-id-1\" class=\"sk-top-container\"><div class=\"sk-text-repr-fallback\"><pre>XGBRegressor(base_score=None, booster=None, callbacks=None,\n",
       "             colsample_bylevel=None, colsample_bynode=None,\n",
       "             colsample_bytree=None, device=None, early_stopping_rounds=None,\n",
       "             enable_categorical=False, eval_metric=None, feature_types=None,\n",
       "             gamma=None, grow_policy=None, importance_type=None,\n",
       "             interaction_constraints=None, learning_rate=None, max_bin=None,\n",
       "             max_cat_threshold=None, max_cat_to_onehot=None,\n",
       "             max_delta_step=None, max_depth=None, max_leaves=None,\n",
       "             min_child_weight=None, missing=nan, monotone_constraints=None,\n",
       "             multi_strategy=None, n_estimators=None, n_jobs=None,\n",
       "             num_parallel_tree=None, random_state=None, ...)</pre><b>In a Jupyter environment, please rerun this cell to show the HTML representation or trust the notebook. <br />On GitHub, the HTML representation is unable to render, please try loading this page with nbviewer.org.</b></div><div class=\"sk-container\" hidden><div class=\"sk-item\"><div class=\"sk-estimator sk-toggleable\"><input class=\"sk-toggleable__control sk-hidden--visually\" id=\"sk-estimator-id-1\" type=\"checkbox\" checked><label for=\"sk-estimator-id-1\" class=\"sk-toggleable__label sk-toggleable__label-arrow\">XGBRegressor</label><div class=\"sk-toggleable__content\"><pre>XGBRegressor(base_score=None, booster=None, callbacks=None,\n",
       "             colsample_bylevel=None, colsample_bynode=None,\n",
       "             colsample_bytree=None, device=None, early_stopping_rounds=None,\n",
       "             enable_categorical=False, eval_metric=None, feature_types=None,\n",
       "             gamma=None, grow_policy=None, importance_type=None,\n",
       "             interaction_constraints=None, learning_rate=None, max_bin=None,\n",
       "             max_cat_threshold=None, max_cat_to_onehot=None,\n",
       "             max_delta_step=None, max_depth=None, max_leaves=None,\n",
       "             min_child_weight=None, missing=nan, monotone_constraints=None,\n",
       "             multi_strategy=None, n_estimators=None, n_jobs=None,\n",
       "             num_parallel_tree=None, random_state=None, ...)</pre></div></div></div></div></div>"
      ],
      "text/plain": [
       "XGBRegressor(base_score=None, booster=None, callbacks=None,\n",
       "             colsample_bylevel=None, colsample_bynode=None,\n",
       "             colsample_bytree=None, device=None, early_stopping_rounds=None,\n",
       "             enable_categorical=False, eval_metric=None, feature_types=None,\n",
       "             gamma=None, grow_policy=None, importance_type=None,\n",
       "             interaction_constraints=None, learning_rate=None, max_bin=None,\n",
       "             max_cat_threshold=None, max_cat_to_onehot=None,\n",
       "             max_delta_step=None, max_depth=None, max_leaves=None,\n",
       "             min_child_weight=None, missing=nan, monotone_constraints=None,\n",
       "             multi_strategy=None, n_estimators=None, n_jobs=None,\n",
       "             num_parallel_tree=None, random_state=None, ...)"
      ]
     },
     "execution_count": 13,
     "metadata": {},
     "output_type": "execute_result"
    }
   ],
   "source": [
    "from xgboost import XGBRegressor\n",
    "\n",
    "xgb_model = XGBRegressor()\n",
    "xgb_model.fit(X_train_proc, y_train, eval_set=[(X_test_proc, y_test)], verbose=True)"
   ]
  },
  {
   "cell_type": "code",
   "execution_count": 60,
   "metadata": {},
   "outputs": [
    {
     "name": "stdout",
     "output_type": "stream",
     "text": [
      "154.37184747709767\n"
     ]
    }
   ],
   "source": [
    "from sklearn.metrics import mean_squared_error, mean_absolute_error\n",
    "y_preds = xgb_model.predict(X_test_proc)\n",
    "print(mean_absolute_error(y_test.reset_index(drop=True), y_preds))"
   ]
  },
  {
   "cell_type": "markdown",
   "metadata": {},
   "source": [
    "So for the model it performs really well on smaller target values, because there are way more samples to train on, and the MAE shows that. It's around 150 for the entire model, on the other hand the RMSE is about 800 which makes sense, because the model performs poorly on edge cases where there are only a few samples and RMSE is more susceptible to outliers, but it's important to leave them as they're not errors, and they don't really affect the performance for the smaller target ranges."
   ]
  },
  {
   "cell_type": "code",
   "execution_count": 59,
   "metadata": {},
   "outputs": [
    {
     "name": "stdout",
     "output_type": "stream",
     "text": [
      "MAE of 0 to 1000 is 102.18356460663969, sample length: 129158\n",
      "MAE of 1000 to 2000 is 186.11000895458702, sample length: 26122\n",
      "MAE of 2000 to 3000 is 927.9874698527474, sample length: 744\n",
      "MAE of 3000 to 4000 is 2037.6719220355353, sample length: 139\n",
      "MAE of 4000 to 5000 is 2288.589825257524, sample length: 83\n",
      "MAE of 5000 to 6000 is 2776.4504805582687, sample length: 45\n",
      "MAE of 6000 to 7000 is 2928.987087157282, sample length: 53\n",
      "MAE of 7000 to 8000 is 2235.795528871954, sample length: 42\n",
      "MAE of 8000 to 9000 is 3100.429889453125, sample length: 39\n",
      "MAE of 9000 to 10000 is 3402.371799817708, sample length: 30\n",
      "MAE of 10000 to 11000 is 4270.340107463728, sample length: 28\n",
      "MAE of 11000 to 12000 is 3129.6663120757, sample length: 29\n",
      "MAE of 12000 to 13000 is 3883.32264986413, sample length: 23\n",
      "MAE of 13000 to 14000 is 3369.8112346679686, sample length: 24\n",
      "MAE of 14000 to 15000 is 3565.492258504464, sample length: 35\n",
      "MAE of 15000 to 16000 is 3877.252258639706, sample length: 17\n",
      "MAE of 16000 to 17000 is 5247.269420756392, sample length: 22\n",
      "MAE of 17000 to 18000 is 4102.871196428571, sample length: 21\n",
      "MAE of 18000 to 19000 is 6430.087178497024, sample length: 21\n",
      "MAE of 19000 to 20000 is 5199.452864583333, sample length: 15\n",
      "MAE of 20000 to 21000 is 7397.287969531249, sample length: 12\n",
      "MAE of 21000 to 22000 is 4214.195924479167, sample length: 9\n",
      "MAE of 22000 to 23000 is 7007.125186160714, sample length: 14\n",
      "MAE of 23000 to 24000 is 6192.920559531251, sample length: 20\n",
      "MAE of 24000 to 25000 is 7129.467064062501, sample length: 13\n",
      "MAE of 25000 to 26000 is 5160.3710378472215, sample length: 9\n",
      "MAE of 26000 to 27000 is 2070.68896484375, sample length: 4\n",
      "MAE of 27000 to 28000 is 7862.769775390625, sample length: 8\n",
      "MAE of 28000 to 29000 is 7231.71923828125, sample length: 4\n"
     ]
    }
   ],
   "source": [
    "from sklearn.metrics import mean_squared_error, mean_absolute_error\n",
    "\n",
    "for i in range(1000, 30000, 1000):\n",
    "    y_test_proc = y_test.reset_index(drop=True)\n",
    "    indices = (y_test_proc < i) & (y_test_proc > i-1000) \n",
    "    y_test_proc = y_test_proc[indices]\n",
    "    X_tests_proc = X_test_proc[indices]\n",
    "    y_preds = xgb_model.predict(X_tests_proc)\n",
    "    print(f\"MAE of {i-1000} to {i} is {mean_absolute_error(y_test_proc, y_preds)}, sample length: {len(y_test_proc)}\")"
   ]
  },
  {
   "cell_type": "code",
   "execution_count": 56,
   "metadata": {},
   "outputs": [
    {
     "data": {
      "text/plain": [
       "155874"
      ]
     },
     "execution_count": 56,
     "metadata": {},
     "output_type": "execute_result"
    }
   ],
   "source": [
    "len(y_test[(y_test < 2500) & (y_test > 0)])"
   ]
  },
  {
   "cell_type": "markdown",
   "metadata": {},
   "source": [
    "Most important features plotted"
   ]
  },
  {
   "cell_type": "code",
   "execution_count": 63,
   "metadata": {},
   "outputs": [
    {
     "data": {
      "text/plain": [
       "<Axes: title={'center': 'Feature importance'}, xlabel='F score', ylabel='Features'>"
      ]
     },
     "execution_count": 63,
     "metadata": {},
     "output_type": "execute_result"
    },
    {
     "data": {
      "image/png": "[encoded data removed]",
      "text/plain": [
       "<Figure size 640x480 with 1 Axes>"
      ]
     },
     "metadata": {},
     "output_type": "display_data"
    }
   ],
   "source": [
    "import xgboost as xgb\n",
    "\n",
    "xgb.plot_importance(xgb_model)"
   ]
  },
  {
   "cell_type": "markdown",
   "metadata": {},
   "source": [
    "# 5. Hyperparameter optimization using Optuna"
   ]
  },
  {
   "cell_type": "markdown",
   "metadata": {},
   "source": []
  },
  {
   "cell_type": "code",
   "execution_count": null,
   "metadata": {},
   "outputs": [],
   "source": []
  }
 ],
 "metadata": {
  "kernelspec": {
   "display_name": ".venv",
   "language": "python",
   "name": "python3"
  },
  "language_info": {
   "codemirror_mode": {
    "name": "ipython",
    "version": 3
   },
   "file_extension": ".py",
   "mimetype": "text/x-python",
   "name": "python",
   "nbconvert_exporter": "python",
   "pygments_lexer": "ipython3",
   "version": "3.12.6"
  }
 },
 "nbformat": 4,
 "nbformat_minor": 2
}
